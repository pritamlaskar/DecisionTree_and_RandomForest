{
 "cells": [
  {
   "cell_type": "markdown",
   "id": "796ecae6",
   "metadata": {
    "id": "796ecae6"
   },
   "source": [
    "#  Importing libraries and datasets"
   ]
  },
  {
   "cell_type": "code",
   "execution_count": 2,
   "id": "8e7cab05",
   "metadata": {
    "id": "8e7cab05"
   },
   "outputs": [],
   "source": [
    "# Importing basic libraries\n",
    "import pandas as pd\n",
    "import numpy as np\n",
    "import matplotlib.pyplot as plt\n",
    "%matplotlib inline\n",
    "import seaborn as sns\n",
    "\n",
    "# Importing encoder\n",
    "from sklearn.preprocessing import LabelEncoder\n",
    "\n",
    "# Importing model validation\n",
    "from sklearn.model_selection import train_test_split\n",
    "\n",
    "# Importing Regressors\n",
    "from sklearn.linear_model import LinearRegression\n",
    "from sklearn.tree import DecisionTreeRegressor\n",
    "from sklearn.ensemble import RandomForestRegressor\n",
    "\n",
    "# Display max columns\n",
    "pd.set_option('display.max_columns', None)\n"
   ]
  },
  {
   "cell_type": "code",
   "execution_count": 3,
   "id": "71a0be5c",
   "metadata": {
    "id": "71a0be5c"
   },
   "outputs": [],
   "source": [
    "flight_data = pd.read_csv(\"C:/Users/prita/OneDrive/Documents/Ancillary Revenue Prediction/data/data_flight_20k.csv\")\n",
    "sales_data = pd.read_csv(\"C:/Users/prita/OneDrive/Documents/Ancillary Revenue Prediction/data/data_sales_20k.csv\")\n",
    "validation_data = pd.read_csv(\"C:/Users/prita/OneDrive/Documents/Ancillary Revenue Prediction/data/validation_set.csv\")"
   ]
  },
  {
   "cell_type": "code",
   "execution_count": 4,
   "id": "669958db",
   "metadata": {
    "colab": {
     "base_uri": "https://localhost:8080/",
     "height": 565
    },
    "id": "669958db",
    "outputId": "0a1a1fc9-6bc6-4ef5-bf8b-e3386cf2a602"
   },
   "outputs": [
    {
     "data": {
      "text/html": [
       "<div>\n",
       "<style scoped>\n",
       "    .dataframe tbody tr th:only-of-type {\n",
       "        vertical-align: middle;\n",
       "    }\n",
       "\n",
       "    .dataframe tbody tr th {\n",
       "        vertical-align: top;\n",
       "    }\n",
       "\n",
       "    .dataframe thead th {\n",
       "        text-align: right;\n",
       "    }\n",
       "</style>\n",
       "<table border=\"1\" class=\"dataframe\">\n",
       "  <thead>\n",
       "    <tr style=\"text-align: right;\">\n",
       "      <th></th>\n",
       "      <th>InventoryLegSK</th>\n",
       "      <th>CarrierCode</th>\n",
       "      <th>FlightNumber</th>\n",
       "      <th>DepartureAirport</th>\n",
       "      <th>ArrivalAirport</th>\n",
       "      <th>DepartureDateTimeLocal</th>\n",
       "      <th>DepartureDateTimeUTC</th>\n",
       "      <th>ArrivalDateTimeLocal</th>\n",
       "      <th>ArrivalDateTimeUTC</th>\n",
       "      <th>ArrivalCountry</th>\n",
       "      <th>DepartureCountry</th>\n",
       "      <th>RouteGroup</th>\n",
       "      <th>Region</th>\n",
       "      <th>FlightCapacity</th>\n",
       "      <th>FlightStatus</th>\n",
       "    </tr>\n",
       "  </thead>\n",
       "  <tbody>\n",
       "    <tr>\n",
       "      <th>0</th>\n",
       "      <td>9153888</td>\n",
       "      <td>FR</td>\n",
       "      <td>144</td>\n",
       "      <td>BER</td>\n",
       "      <td>STN</td>\n",
       "      <td>15/06/2022 06:30</td>\n",
       "      <td>15/06/2022 04:30</td>\n",
       "      <td>15/06/2022 07:20</td>\n",
       "      <td>15/06/2022 06:20</td>\n",
       "      <td>United Kingdom</td>\n",
       "      <td>Germany</td>\n",
       "      <td>CITY</td>\n",
       "      <td>LON CITY MULTI</td>\n",
       "      <td>189</td>\n",
       "      <td>Departed</td>\n",
       "    </tr>\n",
       "    <tr>\n",
       "      <th>1</th>\n",
       "      <td>9857561</td>\n",
       "      <td>FR</td>\n",
       "      <td>6833</td>\n",
       "      <td>EIN</td>\n",
       "      <td>NAP</td>\n",
       "      <td>28/07/2022 12:20</td>\n",
       "      <td>28/07/2022 10:20</td>\n",
       "      <td>28/07/2022 14:35</td>\n",
       "      <td>28/07/2022 12:35</td>\n",
       "      <td>Italy</td>\n",
       "      <td>Netherlands</td>\n",
       "      <td>LEISURE</td>\n",
       "      <td>BENLFR LEISURE</td>\n",
       "      <td>189</td>\n",
       "      <td>Departed</td>\n",
       "    </tr>\n",
       "    <tr>\n",
       "      <th>2</th>\n",
       "      <td>9527383</td>\n",
       "      <td>FR</td>\n",
       "      <td>8973</td>\n",
       "      <td>BRI</td>\n",
       "      <td>CTA</td>\n",
       "      <td>24/04/2022 19:25</td>\n",
       "      <td>24/04/2022 17:25</td>\n",
       "      <td>24/04/2022 20:35</td>\n",
       "      <td>24/04/2022 18:35</td>\n",
       "      <td>Italy</td>\n",
       "      <td>Italy</td>\n",
       "      <td>DOMESTIC</td>\n",
       "      <td>IT DOM</td>\n",
       "      <td>189</td>\n",
       "      <td>Cancelled</td>\n",
       "    </tr>\n",
       "    <tr>\n",
       "      <th>3</th>\n",
       "      <td>9118423</td>\n",
       "      <td>FR</td>\n",
       "      <td>1025</td>\n",
       "      <td>DUB</td>\n",
       "      <td>BUD</td>\n",
       "      <td>12/09/2022 13:25</td>\n",
       "      <td>12/09/2022 12:25</td>\n",
       "      <td>12/09/2022 17:15</td>\n",
       "      <td>12/09/2022 15:15</td>\n",
       "      <td>Hungary</td>\n",
       "      <td>Ireland</td>\n",
       "      <td>CITY</td>\n",
       "      <td>IE CITY</td>\n",
       "      <td>189</td>\n",
       "      <td>Cancelled</td>\n",
       "    </tr>\n",
       "    <tr>\n",
       "      <th>4</th>\n",
       "      <td>9897668</td>\n",
       "      <td>FR</td>\n",
       "      <td>4150</td>\n",
       "      <td>PMI</td>\n",
       "      <td>HHN</td>\n",
       "      <td>03/07/2022 19:15</td>\n",
       "      <td>03/07/2022 17:15</td>\n",
       "      <td>03/07/2022 21:30</td>\n",
       "      <td>03/07/2022 19:30</td>\n",
       "      <td>Germany</td>\n",
       "      <td>Spain</td>\n",
       "      <td>LEISURE</td>\n",
       "      <td>DE LEISURE</td>\n",
       "      <td>189</td>\n",
       "      <td>Departed</td>\n",
       "    </tr>\n",
       "    <tr>\n",
       "      <th>...</th>\n",
       "      <td>...</td>\n",
       "      <td>...</td>\n",
       "      <td>...</td>\n",
       "      <td>...</td>\n",
       "      <td>...</td>\n",
       "      <td>...</td>\n",
       "      <td>...</td>\n",
       "      <td>...</td>\n",
       "      <td>...</td>\n",
       "      <td>...</td>\n",
       "      <td>...</td>\n",
       "      <td>...</td>\n",
       "      <td>...</td>\n",
       "      <td>...</td>\n",
       "      <td>...</td>\n",
       "    </tr>\n",
       "    <tr>\n",
       "      <th>19995</th>\n",
       "      <td>9500351</td>\n",
       "      <td>FR</td>\n",
       "      <td>1485</td>\n",
       "      <td>PSA</td>\n",
       "      <td>PMI</td>\n",
       "      <td>27/05/2022 10:35</td>\n",
       "      <td>27/05/2022 08:35</td>\n",
       "      <td>27/05/2022 12:10</td>\n",
       "      <td>27/05/2022 10:10</td>\n",
       "      <td>Spain</td>\n",
       "      <td>Italy</td>\n",
       "      <td>LEISURE</td>\n",
       "      <td>S EUR LEISURE</td>\n",
       "      <td>189</td>\n",
       "      <td>Cancelled</td>\n",
       "    </tr>\n",
       "    <tr>\n",
       "      <th>19996</th>\n",
       "      <td>10129803</td>\n",
       "      <td>FR</td>\n",
       "      <td>4106</td>\n",
       "      <td>GDN</td>\n",
       "      <td>WRO</td>\n",
       "      <td>26/09/2022 16:55</td>\n",
       "      <td>26/09/2022 14:55</td>\n",
       "      <td>26/09/2022 18:00</td>\n",
       "      <td>26/09/2022 16:00</td>\n",
       "      <td>Poland</td>\n",
       "      <td>Poland</td>\n",
       "      <td>DOMESTIC</td>\n",
       "      <td>OTHER DOM</td>\n",
       "      <td>189</td>\n",
       "      <td>Departed</td>\n",
       "    </tr>\n",
       "    <tr>\n",
       "      <th>19997</th>\n",
       "      <td>9207549</td>\n",
       "      <td>FR</td>\n",
       "      <td>4916</td>\n",
       "      <td>PMO</td>\n",
       "      <td>TRN</td>\n",
       "      <td>25/04/2022 06:25</td>\n",
       "      <td>25/04/2022 04:25</td>\n",
       "      <td>25/04/2022 08:05</td>\n",
       "      <td>25/04/2022 06:05</td>\n",
       "      <td>Italy</td>\n",
       "      <td>Italy</td>\n",
       "      <td>DOMESTIC</td>\n",
       "      <td>IT DOM</td>\n",
       "      <td>189</td>\n",
       "      <td>Departed</td>\n",
       "    </tr>\n",
       "    <tr>\n",
       "      <th>19998</th>\n",
       "      <td>9573360</td>\n",
       "      <td>FR</td>\n",
       "      <td>9132</td>\n",
       "      <td>CIA</td>\n",
       "      <td>OPO</td>\n",
       "      <td>24/08/2022 10:25</td>\n",
       "      <td>24/08/2022 08:25</td>\n",
       "      <td>24/08/2022 12:20</td>\n",
       "      <td>24/08/2022 11:20</td>\n",
       "      <td>Portugal</td>\n",
       "      <td>Italy</td>\n",
       "      <td>CITY</td>\n",
       "      <td>ESPT-IT</td>\n",
       "      <td>189</td>\n",
       "      <td>Cancelled</td>\n",
       "    </tr>\n",
       "    <tr>\n",
       "      <th>19999</th>\n",
       "      <td>9400373</td>\n",
       "      <td>FR</td>\n",
       "      <td>5269</td>\n",
       "      <td>EIN</td>\n",
       "      <td>SVQ</td>\n",
       "      <td>01/07/2022 09:40</td>\n",
       "      <td>01/07/2022 07:40</td>\n",
       "      <td>01/07/2022 12:30</td>\n",
       "      <td>01/07/2022 10:30</td>\n",
       "      <td>Spain</td>\n",
       "      <td>Netherlands</td>\n",
       "      <td>CITY</td>\n",
       "      <td>BENL-ESPT</td>\n",
       "      <td>189</td>\n",
       "      <td>Departed</td>\n",
       "    </tr>\n",
       "  </tbody>\n",
       "</table>\n",
       "<p>20000 rows × 15 columns</p>\n",
       "</div>"
      ],
      "text/plain": [
       "       InventoryLegSK CarrierCode  FlightNumber DepartureAirport  \\\n",
       "0             9153888          FR           144              BER   \n",
       "1             9857561          FR          6833              EIN   \n",
       "2             9527383          FR          8973              BRI   \n",
       "3             9118423          FR          1025              DUB   \n",
       "4             9897668          FR          4150              PMI   \n",
       "...               ...         ...           ...              ...   \n",
       "19995         9500351          FR          1485              PSA   \n",
       "19996        10129803          FR          4106              GDN   \n",
       "19997         9207549          FR          4916              PMO   \n",
       "19998         9573360          FR          9132              CIA   \n",
       "19999         9400373          FR          5269              EIN   \n",
       "\n",
       "      ArrivalAirport DepartureDateTimeLocal DepartureDateTimeUTC  \\\n",
       "0                STN       15/06/2022 06:30     15/06/2022 04:30   \n",
       "1                NAP       28/07/2022 12:20     28/07/2022 10:20   \n",
       "2                CTA       24/04/2022 19:25     24/04/2022 17:25   \n",
       "3                BUD       12/09/2022 13:25     12/09/2022 12:25   \n",
       "4                HHN       03/07/2022 19:15     03/07/2022 17:15   \n",
       "...              ...                    ...                  ...   \n",
       "19995            PMI       27/05/2022 10:35     27/05/2022 08:35   \n",
       "19996            WRO       26/09/2022 16:55     26/09/2022 14:55   \n",
       "19997            TRN       25/04/2022 06:25     25/04/2022 04:25   \n",
       "19998            OPO       24/08/2022 10:25     24/08/2022 08:25   \n",
       "19999            SVQ       01/07/2022 09:40     01/07/2022 07:40   \n",
       "\n",
       "      ArrivalDateTimeLocal ArrivalDateTimeUTC  ArrivalCountry  \\\n",
       "0         15/06/2022 07:20   15/06/2022 06:20  United Kingdom   \n",
       "1         28/07/2022 14:35   28/07/2022 12:35           Italy   \n",
       "2         24/04/2022 20:35   24/04/2022 18:35           Italy   \n",
       "3         12/09/2022 17:15   12/09/2022 15:15         Hungary   \n",
       "4         03/07/2022 21:30   03/07/2022 19:30         Germany   \n",
       "...                    ...                ...             ...   \n",
       "19995     27/05/2022 12:10   27/05/2022 10:10           Spain   \n",
       "19996     26/09/2022 18:00   26/09/2022 16:00          Poland   \n",
       "19997     25/04/2022 08:05   25/04/2022 06:05           Italy   \n",
       "19998     24/08/2022 12:20   24/08/2022 11:20        Portugal   \n",
       "19999     01/07/2022 12:30   01/07/2022 10:30           Spain   \n",
       "\n",
       "      DepartureCountry RouteGroup          Region  FlightCapacity FlightStatus  \n",
       "0              Germany       CITY  LON CITY MULTI             189     Departed  \n",
       "1          Netherlands    LEISURE  BENLFR LEISURE             189     Departed  \n",
       "2                Italy   DOMESTIC          IT DOM             189    Cancelled  \n",
       "3              Ireland       CITY         IE CITY             189    Cancelled  \n",
       "4                Spain    LEISURE      DE LEISURE             189     Departed  \n",
       "...                ...        ...             ...             ...          ...  \n",
       "19995            Italy    LEISURE   S EUR LEISURE             189    Cancelled  \n",
       "19996           Poland   DOMESTIC       OTHER DOM             189     Departed  \n",
       "19997            Italy   DOMESTIC          IT DOM             189     Departed  \n",
       "19998            Italy       CITY         ESPT-IT             189    Cancelled  \n",
       "19999      Netherlands       CITY       BENL-ESPT             189     Departed  \n",
       "\n",
       "[20000 rows x 15 columns]"
      ]
     },
     "execution_count": 4,
     "metadata": {},
     "output_type": "execute_result"
    }
   ],
   "source": [
    "flight_data"
   ]
  },
  {
   "cell_type": "code",
   "execution_count": 5,
   "id": "ecc8cf56",
   "metadata": {
    "colab": {
     "base_uri": "https://localhost:8080/",
     "height": 461
    },
    "id": "ecc8cf56",
    "outputId": "c7f77ab7-cd3a-48c2-ae32-1146aecde90e"
   },
   "outputs": [
    {
     "data": {
      "text/html": [
       "<div>\n",
       "<style scoped>\n",
       "    .dataframe tbody tr th:only-of-type {\n",
       "        vertical-align: middle;\n",
       "    }\n",
       "\n",
       "    .dataframe tbody tr th {\n",
       "        vertical-align: top;\n",
       "    }\n",
       "\n",
       "    .dataframe thead th {\n",
       "        text-align: right;\n",
       "    }\n",
       "</style>\n",
       "<table border=\"1\" class=\"dataframe\">\n",
       "  <thead>\n",
       "    <tr style=\"text-align: right;\">\n",
       "      <th></th>\n",
       "      <th>Unnamed: 0</th>\n",
       "      <th>InventoryLegSK</th>\n",
       "      <th>PurchaseDateSK</th>\n",
       "      <th>Passenger_UnitsSold</th>\n",
       "      <th>Priority_Boarding_UnitsSold</th>\n",
       "      <th>Priority_Boarding_RevenueEUR</th>\n",
       "      <th>20KG_Bag_UnitsSold</th>\n",
       "      <th>20KG_Bag_RevenueEUR</th>\n",
       "      <th>10KG_Bag_UnitsSold</th>\n",
       "      <th>10KG_Bag_RevenueEUR</th>\n",
       "    </tr>\n",
       "  </thead>\n",
       "  <tbody>\n",
       "    <tr>\n",
       "      <th>0</th>\n",
       "      <td>0</td>\n",
       "      <td>8916784</td>\n",
       "      <td>20200120.0</td>\n",
       "      <td>4</td>\n",
       "      <td>0.0</td>\n",
       "      <td>0,0</td>\n",
       "      <td>0.0</td>\n",
       "      <td>0.00</td>\n",
       "      <td>0.0</td>\n",
       "      <td>0.00</td>\n",
       "    </tr>\n",
       "    <tr>\n",
       "      <th>1</th>\n",
       "      <td>1</td>\n",
       "      <td>8916784</td>\n",
       "      <td>20200716.0</td>\n",
       "      <td>0</td>\n",
       "      <td>0.0</td>\n",
       "      <td>0,0</td>\n",
       "      <td>0.0</td>\n",
       "      <td>0.00</td>\n",
       "      <td>0.0</td>\n",
       "      <td>0.00</td>\n",
       "    </tr>\n",
       "    <tr>\n",
       "      <th>2</th>\n",
       "      <td>2</td>\n",
       "      <td>8916784</td>\n",
       "      <td>20200728.0</td>\n",
       "      <td>5</td>\n",
       "      <td>0.0</td>\n",
       "      <td>0,0</td>\n",
       "      <td>0.0</td>\n",
       "      <td>0.00</td>\n",
       "      <td>0.0</td>\n",
       "      <td>0.00</td>\n",
       "    </tr>\n",
       "    <tr>\n",
       "      <th>3</th>\n",
       "      <td>3</td>\n",
       "      <td>8916784</td>\n",
       "      <td>20200814.0</td>\n",
       "      <td>2</td>\n",
       "      <td>0.0</td>\n",
       "      <td>0,0</td>\n",
       "      <td>0.0</td>\n",
       "      <td>0.00</td>\n",
       "      <td>0.0</td>\n",
       "      <td>0.00</td>\n",
       "    </tr>\n",
       "    <tr>\n",
       "      <th>4</th>\n",
       "      <td>4</td>\n",
       "      <td>8916784</td>\n",
       "      <td>20210116.0</td>\n",
       "      <td>3</td>\n",
       "      <td>0.0</td>\n",
       "      <td>0,0</td>\n",
       "      <td>0.0</td>\n",
       "      <td>0.00</td>\n",
       "      <td>0.0</td>\n",
       "      <td>0.00</td>\n",
       "    </tr>\n",
       "    <tr>\n",
       "      <th>...</th>\n",
       "      <td>...</td>\n",
       "      <td>...</td>\n",
       "      <td>...</td>\n",
       "      <td>...</td>\n",
       "      <td>...</td>\n",
       "      <td>...</td>\n",
       "      <td>...</td>\n",
       "      <td>...</td>\n",
       "      <td>...</td>\n",
       "      <td>...</td>\n",
       "    </tr>\n",
       "    <tr>\n",
       "      <th>990563</th>\n",
       "      <td>990563</td>\n",
       "      <td>10857429</td>\n",
       "      <td>20220916.0</td>\n",
       "      <td>0</td>\n",
       "      <td>0.0</td>\n",
       "      <td>0,0</td>\n",
       "      <td>1.0</td>\n",
       "      <td>36.35</td>\n",
       "      <td>0.0</td>\n",
       "      <td>0.00</td>\n",
       "    </tr>\n",
       "    <tr>\n",
       "      <th>990564</th>\n",
       "      <td>990564</td>\n",
       "      <td>10857429</td>\n",
       "      <td>20220917.0</td>\n",
       "      <td>0</td>\n",
       "      <td>3.0</td>\n",
       "      <td>65,0</td>\n",
       "      <td>0.0</td>\n",
       "      <td>0.00</td>\n",
       "      <td>5.0</td>\n",
       "      <td>155.88</td>\n",
       "    </tr>\n",
       "    <tr>\n",
       "      <th>990565</th>\n",
       "      <td>990565</td>\n",
       "      <td>10857429</td>\n",
       "      <td>20220918.0</td>\n",
       "      <td>0</td>\n",
       "      <td>0.0</td>\n",
       "      <td>0,0</td>\n",
       "      <td>1.0</td>\n",
       "      <td>36.35</td>\n",
       "      <td>0.0</td>\n",
       "      <td>0.00</td>\n",
       "    </tr>\n",
       "    <tr>\n",
       "      <th>990566</th>\n",
       "      <td>990566</td>\n",
       "      <td>10857429</td>\n",
       "      <td>20220919.0</td>\n",
       "      <td>0</td>\n",
       "      <td>0.0</td>\n",
       "      <td>0,0</td>\n",
       "      <td>0.0</td>\n",
       "      <td>0.00</td>\n",
       "      <td>0.0</td>\n",
       "      <td>0.00</td>\n",
       "    </tr>\n",
       "    <tr>\n",
       "      <th>990567</th>\n",
       "      <td>990567</td>\n",
       "      <td>10857429</td>\n",
       "      <td>20220921.0</td>\n",
       "      <td>0</td>\n",
       "      <td>0.0</td>\n",
       "      <td>0,0</td>\n",
       "      <td>0.0</td>\n",
       "      <td>0.00</td>\n",
       "      <td>0.0</td>\n",
       "      <td>0.00</td>\n",
       "    </tr>\n",
       "  </tbody>\n",
       "</table>\n",
       "<p>990568 rows × 10 columns</p>\n",
       "</div>"
      ],
      "text/plain": [
       "        Unnamed: 0  InventoryLegSK  PurchaseDateSK  Passenger_UnitsSold  \\\n",
       "0                0         8916784      20200120.0                    4   \n",
       "1                1         8916784      20200716.0                    0   \n",
       "2                2         8916784      20200728.0                    5   \n",
       "3                3         8916784      20200814.0                    2   \n",
       "4                4         8916784      20210116.0                    3   \n",
       "...            ...             ...             ...                  ...   \n",
       "990563      990563        10857429      20220916.0                    0   \n",
       "990564      990564        10857429      20220917.0                    0   \n",
       "990565      990565        10857429      20220918.0                    0   \n",
       "990566      990566        10857429      20220919.0                    0   \n",
       "990567      990567        10857429      20220921.0                    0   \n",
       "\n",
       "        Priority_Boarding_UnitsSold Priority_Boarding_RevenueEUR  \\\n",
       "0                               0.0                          0,0   \n",
       "1                               0.0                          0,0   \n",
       "2                               0.0                          0,0   \n",
       "3                               0.0                          0,0   \n",
       "4                               0.0                          0,0   \n",
       "...                             ...                          ...   \n",
       "990563                          0.0                          0,0   \n",
       "990564                          3.0                         65,0   \n",
       "990565                          0.0                          0,0   \n",
       "990566                          0.0                          0,0   \n",
       "990567                          0.0                          0,0   \n",
       "\n",
       "        20KG_Bag_UnitsSold  20KG_Bag_RevenueEUR  10KG_Bag_UnitsSold  \\\n",
       "0                      0.0                 0.00                 0.0   \n",
       "1                      0.0                 0.00                 0.0   \n",
       "2                      0.0                 0.00                 0.0   \n",
       "3                      0.0                 0.00                 0.0   \n",
       "4                      0.0                 0.00                 0.0   \n",
       "...                    ...                  ...                 ...   \n",
       "990563                 1.0                36.35                 0.0   \n",
       "990564                 0.0                 0.00                 5.0   \n",
       "990565                 1.0                36.35                 0.0   \n",
       "990566                 0.0                 0.00                 0.0   \n",
       "990567                 0.0                 0.00                 0.0   \n",
       "\n",
       "        10KG_Bag_RevenueEUR  \n",
       "0                      0.00  \n",
       "1                      0.00  \n",
       "2                      0.00  \n",
       "3                      0.00  \n",
       "4                      0.00  \n",
       "...                     ...  \n",
       "990563                 0.00  \n",
       "990564               155.88  \n",
       "990565                 0.00  \n",
       "990566                 0.00  \n",
       "990567                 0.00  \n",
       "\n",
       "[990568 rows x 10 columns]"
      ]
     },
     "execution_count": 5,
     "metadata": {},
     "output_type": "execute_result"
    }
   ],
   "source": [
    "sales_data"
   ]
  },
  {
   "cell_type": "code",
   "execution_count": 6,
   "id": "b9881431",
   "metadata": {
    "colab": {
     "base_uri": "https://localhost:8080/",
     "height": 617
    },
    "id": "b9881431",
    "outputId": "3d0b2a8c-a139-4349-ff62-e6c139146581"
   },
   "outputs": [
    {
     "data": {
      "text/html": [
       "<div>\n",
       "<style scoped>\n",
       "    .dataframe tbody tr th:only-of-type {\n",
       "        vertical-align: middle;\n",
       "    }\n",
       "\n",
       "    .dataframe tbody tr th {\n",
       "        vertical-align: top;\n",
       "    }\n",
       "\n",
       "    .dataframe thead th {\n",
       "        text-align: right;\n",
       "    }\n",
       "</style>\n",
       "<table border=\"1\" class=\"dataframe\">\n",
       "  <thead>\n",
       "    <tr style=\"text-align: right;\">\n",
       "      <th></th>\n",
       "      <th>InventoryLegSK</th>\n",
       "      <th>CarrierCode</th>\n",
       "      <th>FlightNumber</th>\n",
       "      <th>DepartureAirport</th>\n",
       "      <th>ArrivalAirport</th>\n",
       "      <th>DepartureDateTimeLocal</th>\n",
       "      <th>DepartureDateTimeUTC</th>\n",
       "      <th>ArrivalDateTimeLocal</th>\n",
       "      <th>ArrivalDateTimeUTC</th>\n",
       "      <th>ArrivalCountry</th>\n",
       "      <th>DepartureCountry</th>\n",
       "      <th>RouteGroup</th>\n",
       "      <th>Region</th>\n",
       "      <th>FlightCapacity</th>\n",
       "    </tr>\n",
       "  </thead>\n",
       "  <tbody>\n",
       "    <tr>\n",
       "      <th>0</th>\n",
       "      <td>8916818</td>\n",
       "      <td>FR</td>\n",
       "      <td>9898</td>\n",
       "      <td>LPL</td>\n",
       "      <td>ALC</td>\n",
       "      <td>30/04/2023 10:10</td>\n",
       "      <td>30/04/2023 09:10</td>\n",
       "      <td>30/04/2023 13:55</td>\n",
       "      <td>30/04/2023 11:55</td>\n",
       "      <td>Spain</td>\n",
       "      <td>United Kingdom</td>\n",
       "      <td>LEISURE</td>\n",
       "      <td>UK REG LEISURE</td>\n",
       "      <td>189</td>\n",
       "    </tr>\n",
       "    <tr>\n",
       "      <th>1</th>\n",
       "      <td>8917570</td>\n",
       "      <td>FR</td>\n",
       "      <td>9094</td>\n",
       "      <td>MAN</td>\n",
       "      <td>ALC</td>\n",
       "      <td>30/04/2023 10:10</td>\n",
       "      <td>30/04/2023 09:10</td>\n",
       "      <td>30/04/2023 13:55</td>\n",
       "      <td>30/04/2023 11:55</td>\n",
       "      <td>Spain</td>\n",
       "      <td>United Kingdom</td>\n",
       "      <td>LEISURE</td>\n",
       "      <td>UK REG LEISURE</td>\n",
       "      <td>189</td>\n",
       "    </tr>\n",
       "    <tr>\n",
       "      <th>2</th>\n",
       "      <td>8917600</td>\n",
       "      <td>FR</td>\n",
       "      <td>8296</td>\n",
       "      <td>BRS</td>\n",
       "      <td>ALC</td>\n",
       "      <td>30/04/2023 10:10</td>\n",
       "      <td>30/04/2023 09:10</td>\n",
       "      <td>30/04/2023 13:55</td>\n",
       "      <td>30/04/2023 11:55</td>\n",
       "      <td>Spain</td>\n",
       "      <td>United Kingdom</td>\n",
       "      <td>LEISURE</td>\n",
       "      <td>UK REG LEISURE</td>\n",
       "      <td>189</td>\n",
       "    </tr>\n",
       "    <tr>\n",
       "      <th>3</th>\n",
       "      <td>8917836</td>\n",
       "      <td>FR</td>\n",
       "      <td>7544</td>\n",
       "      <td>MAN</td>\n",
       "      <td>BCN</td>\n",
       "      <td>30/04/2023 10:10</td>\n",
       "      <td>30/04/2023 09:10</td>\n",
       "      <td>30/04/2023 13:55</td>\n",
       "      <td>30/04/2023 11:55</td>\n",
       "      <td>Spain</td>\n",
       "      <td>United Kingdom</td>\n",
       "      <td>LEISURE</td>\n",
       "      <td>UK REG LEISURE</td>\n",
       "      <td>189</td>\n",
       "    </tr>\n",
       "    <tr>\n",
       "      <th>4</th>\n",
       "      <td>8918208</td>\n",
       "      <td>FR</td>\n",
       "      <td>9898</td>\n",
       "      <td>LPL</td>\n",
       "      <td>ALC</td>\n",
       "      <td>30/04/2023 10:10</td>\n",
       "      <td>30/04/2023 09:10</td>\n",
       "      <td>30/04/2023 13:55</td>\n",
       "      <td>30/04/2023 11:55</td>\n",
       "      <td>Spain</td>\n",
       "      <td>United Kingdom</td>\n",
       "      <td>LEISURE</td>\n",
       "      <td>UK REG LEISURE</td>\n",
       "      <td>189</td>\n",
       "    </tr>\n",
       "    <tr>\n",
       "      <th>...</th>\n",
       "      <td>...</td>\n",
       "      <td>...</td>\n",
       "      <td>...</td>\n",
       "      <td>...</td>\n",
       "      <td>...</td>\n",
       "      <td>...</td>\n",
       "      <td>...</td>\n",
       "      <td>...</td>\n",
       "      <td>...</td>\n",
       "      <td>...</td>\n",
       "      <td>...</td>\n",
       "      <td>...</td>\n",
       "      <td>...</td>\n",
       "      <td>...</td>\n",
       "    </tr>\n",
       "    <tr>\n",
       "      <th>1919</th>\n",
       "      <td>9744821</td>\n",
       "      <td>FR</td>\n",
       "      <td>4929</td>\n",
       "      <td>FCO</td>\n",
       "      <td>CTA</td>\n",
       "      <td>11/07/2023 05:45</td>\n",
       "      <td>11/07/2023 04:45</td>\n",
       "      <td>11/07/2023 09:45</td>\n",
       "      <td>11/07/2023 07:45</td>\n",
       "      <td>Italy</td>\n",
       "      <td>Italy</td>\n",
       "      <td>DOMESTIC</td>\n",
       "      <td>ROM DOM</td>\n",
       "      <td>189</td>\n",
       "    </tr>\n",
       "    <tr>\n",
       "      <th>1920</th>\n",
       "      <td>9745290</td>\n",
       "      <td>FR</td>\n",
       "      <td>4930</td>\n",
       "      <td>CTA</td>\n",
       "      <td>FCO</td>\n",
       "      <td>11/07/2023 05:45</td>\n",
       "      <td>11/07/2023 04:45</td>\n",
       "      <td>11/07/2023 09:45</td>\n",
       "      <td>11/07/2023 07:45</td>\n",
       "      <td>Italy</td>\n",
       "      <td>Italy</td>\n",
       "      <td>DOMESTIC</td>\n",
       "      <td>ROM DOM</td>\n",
       "      <td>189</td>\n",
       "    </tr>\n",
       "    <tr>\n",
       "      <th>1921</th>\n",
       "      <td>9746110</td>\n",
       "      <td>FR</td>\n",
       "      <td>4929</td>\n",
       "      <td>FCO</td>\n",
       "      <td>CTA</td>\n",
       "      <td>11/07/2023 05:45</td>\n",
       "      <td>11/07/2023 04:45</td>\n",
       "      <td>11/07/2023 09:45</td>\n",
       "      <td>11/07/2023 07:45</td>\n",
       "      <td>Italy</td>\n",
       "      <td>Italy</td>\n",
       "      <td>DOMESTIC</td>\n",
       "      <td>ROM DOM</td>\n",
       "      <td>189</td>\n",
       "    </tr>\n",
       "    <tr>\n",
       "      <th>1922</th>\n",
       "      <td>9857976</td>\n",
       "      <td>FR</td>\n",
       "      <td>488</td>\n",
       "      <td>VIE</td>\n",
       "      <td>PMI</td>\n",
       "      <td>11/07/2023 05:45</td>\n",
       "      <td>11/07/2023 04:45</td>\n",
       "      <td>11/07/2023 09:45</td>\n",
       "      <td>11/07/2023 07:45</td>\n",
       "      <td>Spain</td>\n",
       "      <td>Austria</td>\n",
       "      <td>LEISURE</td>\n",
       "      <td>DE LEISURE</td>\n",
       "      <td>180</td>\n",
       "    </tr>\n",
       "    <tr>\n",
       "      <th>1923</th>\n",
       "      <td>9865835</td>\n",
       "      <td>FR</td>\n",
       "      <td>489</td>\n",
       "      <td>PMI</td>\n",
       "      <td>VIE</td>\n",
       "      <td>11/07/2023 05:45</td>\n",
       "      <td>11/07/2023 04:45</td>\n",
       "      <td>11/07/2023 09:45</td>\n",
       "      <td>11/07/2023 07:45</td>\n",
       "      <td>Austria</td>\n",
       "      <td>Spain</td>\n",
       "      <td>LEISURE</td>\n",
       "      <td>DE LEISURE</td>\n",
       "      <td>189</td>\n",
       "    </tr>\n",
       "  </tbody>\n",
       "</table>\n",
       "<p>1924 rows × 14 columns</p>\n",
       "</div>"
      ],
      "text/plain": [
       "      InventoryLegSK CarrierCode  FlightNumber DepartureAirport  \\\n",
       "0            8916818          FR          9898              LPL   \n",
       "1            8917570          FR          9094              MAN   \n",
       "2            8917600          FR          8296              BRS   \n",
       "3            8917836          FR          7544              MAN   \n",
       "4            8918208          FR          9898              LPL   \n",
       "...              ...         ...           ...              ...   \n",
       "1919         9744821          FR          4929              FCO   \n",
       "1920         9745290          FR          4930              CTA   \n",
       "1921         9746110          FR          4929              FCO   \n",
       "1922         9857976          FR           488              VIE   \n",
       "1923         9865835          FR           489              PMI   \n",
       "\n",
       "     ArrivalAirport DepartureDateTimeLocal DepartureDateTimeUTC  \\\n",
       "0               ALC       30/04/2023 10:10     30/04/2023 09:10   \n",
       "1               ALC       30/04/2023 10:10     30/04/2023 09:10   \n",
       "2               ALC       30/04/2023 10:10     30/04/2023 09:10   \n",
       "3               BCN       30/04/2023 10:10     30/04/2023 09:10   \n",
       "4               ALC       30/04/2023 10:10     30/04/2023 09:10   \n",
       "...             ...                    ...                  ...   \n",
       "1919            CTA       11/07/2023 05:45     11/07/2023 04:45   \n",
       "1920            FCO       11/07/2023 05:45     11/07/2023 04:45   \n",
       "1921            CTA       11/07/2023 05:45     11/07/2023 04:45   \n",
       "1922            PMI       11/07/2023 05:45     11/07/2023 04:45   \n",
       "1923            VIE       11/07/2023 05:45     11/07/2023 04:45   \n",
       "\n",
       "     ArrivalDateTimeLocal ArrivalDateTimeUTC ArrivalCountry DepartureCountry  \\\n",
       "0        30/04/2023 13:55   30/04/2023 11:55          Spain   United Kingdom   \n",
       "1        30/04/2023 13:55   30/04/2023 11:55          Spain   United Kingdom   \n",
       "2        30/04/2023 13:55   30/04/2023 11:55          Spain   United Kingdom   \n",
       "3        30/04/2023 13:55   30/04/2023 11:55          Spain   United Kingdom   \n",
       "4        30/04/2023 13:55   30/04/2023 11:55          Spain   United Kingdom   \n",
       "...                   ...                ...            ...              ...   \n",
       "1919     11/07/2023 09:45   11/07/2023 07:45          Italy            Italy   \n",
       "1920     11/07/2023 09:45   11/07/2023 07:45          Italy            Italy   \n",
       "1921     11/07/2023 09:45   11/07/2023 07:45          Italy            Italy   \n",
       "1922     11/07/2023 09:45   11/07/2023 07:45          Spain          Austria   \n",
       "1923     11/07/2023 09:45   11/07/2023 07:45        Austria            Spain   \n",
       "\n",
       "     RouteGroup          Region  FlightCapacity  \n",
       "0       LEISURE  UK REG LEISURE             189  \n",
       "1       LEISURE  UK REG LEISURE             189  \n",
       "2       LEISURE  UK REG LEISURE             189  \n",
       "3       LEISURE  UK REG LEISURE             189  \n",
       "4       LEISURE  UK REG LEISURE             189  \n",
       "...         ...             ...             ...  \n",
       "1919   DOMESTIC         ROM DOM             189  \n",
       "1920   DOMESTIC         ROM DOM             189  \n",
       "1921   DOMESTIC         ROM DOM             189  \n",
       "1922    LEISURE      DE LEISURE             180  \n",
       "1923    LEISURE      DE LEISURE             189  \n",
       "\n",
       "[1924 rows x 14 columns]"
      ]
     },
     "execution_count": 6,
     "metadata": {},
     "output_type": "execute_result"
    }
   ],
   "source": [
    "validation_data"
   ]
  },
  {
   "cell_type": "markdown",
   "id": "cb001226",
   "metadata": {
    "id": "cb001226"
   },
   "source": [
    "#  Data Exploration, Cleaning, and Analysis (EDA)\n",
    "\n",
    "\n",
    "\n"
   ]
  },
  {
   "cell_type": "code",
   "execution_count": 8,
   "id": "94f6664f",
   "metadata": {
    "colab": {
     "base_uri": "https://localhost:8080/",
     "height": 721
    },
    "id": "94f6664f",
    "outputId": "255d38c7-db8e-46ee-cc75-8e688e3ca183"
   },
   "outputs": [
    {
     "data": {
      "text/html": [
       "<div>\n",
       "<style scoped>\n",
       "    .dataframe tbody tr th:only-of-type {\n",
       "        vertical-align: middle;\n",
       "    }\n",
       "\n",
       "    .dataframe tbody tr th {\n",
       "        vertical-align: top;\n",
       "    }\n",
       "\n",
       "    .dataframe thead th {\n",
       "        text-align: right;\n",
       "    }\n",
       "</style>\n",
       "<table border=\"1\" class=\"dataframe\">\n",
       "  <thead>\n",
       "    <tr style=\"text-align: right;\">\n",
       "      <th></th>\n",
       "      <th>InventoryLegSK</th>\n",
       "      <th>CarrierCode</th>\n",
       "      <th>FlightNumber</th>\n",
       "      <th>DepartureAirport</th>\n",
       "      <th>ArrivalAirport</th>\n",
       "      <th>DepartureDateTimeLocal</th>\n",
       "      <th>DepartureDateTimeUTC</th>\n",
       "      <th>ArrivalDateTimeLocal</th>\n",
       "      <th>ArrivalDateTimeUTC</th>\n",
       "      <th>ArrivalCountry</th>\n",
       "      <th>DepartureCountry</th>\n",
       "      <th>RouteGroup</th>\n",
       "      <th>Region</th>\n",
       "      <th>FlightCapacity</th>\n",
       "      <th>FlightStatus</th>\n",
       "      <th>Unnamed: 0</th>\n",
       "      <th>PurchaseDateSK</th>\n",
       "      <th>Passenger_UnitsSold</th>\n",
       "      <th>Priority_Boarding_UnitsSold</th>\n",
       "      <th>Priority_Boarding_RevenueEUR</th>\n",
       "      <th>20KG_Bag_UnitsSold</th>\n",
       "      <th>20KG_Bag_RevenueEUR</th>\n",
       "      <th>10KG_Bag_UnitsSold</th>\n",
       "      <th>10KG_Bag_RevenueEUR</th>\n",
       "    </tr>\n",
       "  </thead>\n",
       "  <tbody>\n",
       "    <tr>\n",
       "      <th>0</th>\n",
       "      <td>9153888</td>\n",
       "      <td>FR</td>\n",
       "      <td>144</td>\n",
       "      <td>BER</td>\n",
       "      <td>STN</td>\n",
       "      <td>15/06/2022 06:30</td>\n",
       "      <td>15/06/2022 04:30</td>\n",
       "      <td>15/06/2022 07:20</td>\n",
       "      <td>15/06/2022 06:20</td>\n",
       "      <td>United Kingdom</td>\n",
       "      <td>Germany</td>\n",
       "      <td>CITY</td>\n",
       "      <td>LON CITY MULTI</td>\n",
       "      <td>189</td>\n",
       "      <td>Departed</td>\n",
       "      <td>309271</td>\n",
       "      <td>20220107.0</td>\n",
       "      <td>1</td>\n",
       "      <td>0.0</td>\n",
       "      <td>0,0</td>\n",
       "      <td>0.0</td>\n",
       "      <td>0.00</td>\n",
       "      <td>0.0</td>\n",
       "      <td>0.00</td>\n",
       "    </tr>\n",
       "    <tr>\n",
       "      <th>1</th>\n",
       "      <td>9153888</td>\n",
       "      <td>FR</td>\n",
       "      <td>144</td>\n",
       "      <td>BER</td>\n",
       "      <td>STN</td>\n",
       "      <td>15/06/2022 06:30</td>\n",
       "      <td>15/06/2022 04:30</td>\n",
       "      <td>15/06/2022 07:20</td>\n",
       "      <td>15/06/2022 06:20</td>\n",
       "      <td>United Kingdom</td>\n",
       "      <td>Germany</td>\n",
       "      <td>CITY</td>\n",
       "      <td>LON CITY MULTI</td>\n",
       "      <td>189</td>\n",
       "      <td>Departed</td>\n",
       "      <td>309272</td>\n",
       "      <td>20220213.0</td>\n",
       "      <td>0</td>\n",
       "      <td>0.0</td>\n",
       "      <td>0,0</td>\n",
       "      <td>0.0</td>\n",
       "      <td>0.00</td>\n",
       "      <td>0.0</td>\n",
       "      <td>0.00</td>\n",
       "    </tr>\n",
       "    <tr>\n",
       "      <th>2</th>\n",
       "      <td>9153888</td>\n",
       "      <td>FR</td>\n",
       "      <td>144</td>\n",
       "      <td>BER</td>\n",
       "      <td>STN</td>\n",
       "      <td>15/06/2022 06:30</td>\n",
       "      <td>15/06/2022 04:30</td>\n",
       "      <td>15/06/2022 07:20</td>\n",
       "      <td>15/06/2022 06:20</td>\n",
       "      <td>United Kingdom</td>\n",
       "      <td>Germany</td>\n",
       "      <td>CITY</td>\n",
       "      <td>LON CITY MULTI</td>\n",
       "      <td>189</td>\n",
       "      <td>Departed</td>\n",
       "      <td>309273</td>\n",
       "      <td>20220217.0</td>\n",
       "      <td>4</td>\n",
       "      <td>0.0</td>\n",
       "      <td>0,0</td>\n",
       "      <td>1.0</td>\n",
       "      <td>22.57</td>\n",
       "      <td>0.0</td>\n",
       "      <td>0.00</td>\n",
       "    </tr>\n",
       "    <tr>\n",
       "      <th>3</th>\n",
       "      <td>9153888</td>\n",
       "      <td>FR</td>\n",
       "      <td>144</td>\n",
       "      <td>BER</td>\n",
       "      <td>STN</td>\n",
       "      <td>15/06/2022 06:30</td>\n",
       "      <td>15/06/2022 04:30</td>\n",
       "      <td>15/06/2022 07:20</td>\n",
       "      <td>15/06/2022 06:20</td>\n",
       "      <td>United Kingdom</td>\n",
       "      <td>Germany</td>\n",
       "      <td>CITY</td>\n",
       "      <td>LON CITY MULTI</td>\n",
       "      <td>189</td>\n",
       "      <td>Departed</td>\n",
       "      <td>309274</td>\n",
       "      <td>20220407.0</td>\n",
       "      <td>3</td>\n",
       "      <td>1.0</td>\n",
       "      <td>6,0</td>\n",
       "      <td>0.0</td>\n",
       "      <td>0.00</td>\n",
       "      <td>0.0</td>\n",
       "      <td>0.00</td>\n",
       "    </tr>\n",
       "    <tr>\n",
       "      <th>4</th>\n",
       "      <td>9153888</td>\n",
       "      <td>FR</td>\n",
       "      <td>144</td>\n",
       "      <td>BER</td>\n",
       "      <td>STN</td>\n",
       "      <td>15/06/2022 06:30</td>\n",
       "      <td>15/06/2022 04:30</td>\n",
       "      <td>15/06/2022 07:20</td>\n",
       "      <td>15/06/2022 06:20</td>\n",
       "      <td>United Kingdom</td>\n",
       "      <td>Germany</td>\n",
       "      <td>CITY</td>\n",
       "      <td>LON CITY MULTI</td>\n",
       "      <td>189</td>\n",
       "      <td>Departed</td>\n",
       "      <td>309275</td>\n",
       "      <td>20220408.0</td>\n",
       "      <td>2</td>\n",
       "      <td>2.0</td>\n",
       "      <td>12,0</td>\n",
       "      <td>0.0</td>\n",
       "      <td>0.00</td>\n",
       "      <td>0.0</td>\n",
       "      <td>0.00</td>\n",
       "    </tr>\n",
       "    <tr>\n",
       "      <th>...</th>\n",
       "      <td>...</td>\n",
       "      <td>...</td>\n",
       "      <td>...</td>\n",
       "      <td>...</td>\n",
       "      <td>...</td>\n",
       "      <td>...</td>\n",
       "      <td>...</td>\n",
       "      <td>...</td>\n",
       "      <td>...</td>\n",
       "      <td>...</td>\n",
       "      <td>...</td>\n",
       "      <td>...</td>\n",
       "      <td>...</td>\n",
       "      <td>...</td>\n",
       "      <td>...</td>\n",
       "      <td>...</td>\n",
       "      <td>...</td>\n",
       "      <td>...</td>\n",
       "      <td>...</td>\n",
       "      <td>...</td>\n",
       "      <td>...</td>\n",
       "      <td>...</td>\n",
       "      <td>...</td>\n",
       "      <td>...</td>\n",
       "    </tr>\n",
       "    <tr>\n",
       "      <th>990563</th>\n",
       "      <td>9400373</td>\n",
       "      <td>FR</td>\n",
       "      <td>5269</td>\n",
       "      <td>EIN</td>\n",
       "      <td>SVQ</td>\n",
       "      <td>01/07/2022 09:40</td>\n",
       "      <td>01/07/2022 07:40</td>\n",
       "      <td>01/07/2022 12:30</td>\n",
       "      <td>01/07/2022 10:30</td>\n",
       "      <td>Spain</td>\n",
       "      <td>Netherlands</td>\n",
       "      <td>CITY</td>\n",
       "      <td>BENL-ESPT</td>\n",
       "      <td>189</td>\n",
       "      <td>Departed</td>\n",
       "      <td>410432</td>\n",
       "      <td>20220628.0</td>\n",
       "      <td>7</td>\n",
       "      <td>0.0</td>\n",
       "      <td>0,0</td>\n",
       "      <td>0.0</td>\n",
       "      <td>0.00</td>\n",
       "      <td>4.0</td>\n",
       "      <td>125.99</td>\n",
       "    </tr>\n",
       "    <tr>\n",
       "      <th>990564</th>\n",
       "      <td>9400373</td>\n",
       "      <td>FR</td>\n",
       "      <td>5269</td>\n",
       "      <td>EIN</td>\n",
       "      <td>SVQ</td>\n",
       "      <td>01/07/2022 09:40</td>\n",
       "      <td>01/07/2022 07:40</td>\n",
       "      <td>01/07/2022 12:30</td>\n",
       "      <td>01/07/2022 10:30</td>\n",
       "      <td>Spain</td>\n",
       "      <td>Netherlands</td>\n",
       "      <td>CITY</td>\n",
       "      <td>BENL-ESPT</td>\n",
       "      <td>189</td>\n",
       "      <td>Departed</td>\n",
       "      <td>410433</td>\n",
       "      <td>20220629.0</td>\n",
       "      <td>1</td>\n",
       "      <td>0.0</td>\n",
       "      <td>0,0</td>\n",
       "      <td>0.0</td>\n",
       "      <td>0.00</td>\n",
       "      <td>0.0</td>\n",
       "      <td>0.00</td>\n",
       "    </tr>\n",
       "    <tr>\n",
       "      <th>990565</th>\n",
       "      <td>9400373</td>\n",
       "      <td>FR</td>\n",
       "      <td>5269</td>\n",
       "      <td>EIN</td>\n",
       "      <td>SVQ</td>\n",
       "      <td>01/07/2022 09:40</td>\n",
       "      <td>01/07/2022 07:40</td>\n",
       "      <td>01/07/2022 12:30</td>\n",
       "      <td>01/07/2022 10:30</td>\n",
       "      <td>Spain</td>\n",
       "      <td>Netherlands</td>\n",
       "      <td>CITY</td>\n",
       "      <td>BENL-ESPT</td>\n",
       "      <td>189</td>\n",
       "      <td>Departed</td>\n",
       "      <td>410434</td>\n",
       "      <td>20220630.0</td>\n",
       "      <td>0</td>\n",
       "      <td>0.0</td>\n",
       "      <td>0,0</td>\n",
       "      <td>1.0</td>\n",
       "      <td>59.99</td>\n",
       "      <td>3.0</td>\n",
       "      <td>107.97</td>\n",
       "    </tr>\n",
       "    <tr>\n",
       "      <th>990566</th>\n",
       "      <td>9400373</td>\n",
       "      <td>FR</td>\n",
       "      <td>5269</td>\n",
       "      <td>EIN</td>\n",
       "      <td>SVQ</td>\n",
       "      <td>01/07/2022 09:40</td>\n",
       "      <td>01/07/2022 07:40</td>\n",
       "      <td>01/07/2022 12:30</td>\n",
       "      <td>01/07/2022 10:30</td>\n",
       "      <td>Spain</td>\n",
       "      <td>Netherlands</td>\n",
       "      <td>CITY</td>\n",
       "      <td>BENL-ESPT</td>\n",
       "      <td>189</td>\n",
       "      <td>Departed</td>\n",
       "      <td>410435</td>\n",
       "      <td>20220701.0</td>\n",
       "      <td>0</td>\n",
       "      <td>0.0</td>\n",
       "      <td>0,0</td>\n",
       "      <td>0.0</td>\n",
       "      <td>0.00</td>\n",
       "      <td>0.0</td>\n",
       "      <td>0.00</td>\n",
       "    </tr>\n",
       "    <tr>\n",
       "      <th>990567</th>\n",
       "      <td>9400373</td>\n",
       "      <td>FR</td>\n",
       "      <td>5269</td>\n",
       "      <td>EIN</td>\n",
       "      <td>SVQ</td>\n",
       "      <td>01/07/2022 09:40</td>\n",
       "      <td>01/07/2022 07:40</td>\n",
       "      <td>01/07/2022 12:30</td>\n",
       "      <td>01/07/2022 10:30</td>\n",
       "      <td>Spain</td>\n",
       "      <td>Netherlands</td>\n",
       "      <td>CITY</td>\n",
       "      <td>BENL-ESPT</td>\n",
       "      <td>189</td>\n",
       "      <td>Departed</td>\n",
       "      <td>410436</td>\n",
       "      <td>20220717.0</td>\n",
       "      <td>0</td>\n",
       "      <td>0.0</td>\n",
       "      <td>0,0</td>\n",
       "      <td>0.0</td>\n",
       "      <td>0.00</td>\n",
       "      <td>0.0</td>\n",
       "      <td>0.00</td>\n",
       "    </tr>\n",
       "  </tbody>\n",
       "</table>\n",
       "<p>990568 rows × 24 columns</p>\n",
       "</div>"
      ],
      "text/plain": [
       "        InventoryLegSK CarrierCode  FlightNumber DepartureAirport  \\\n",
       "0              9153888          FR           144              BER   \n",
       "1              9153888          FR           144              BER   \n",
       "2              9153888          FR           144              BER   \n",
       "3              9153888          FR           144              BER   \n",
       "4              9153888          FR           144              BER   \n",
       "...                ...         ...           ...              ...   \n",
       "990563         9400373          FR          5269              EIN   \n",
       "990564         9400373          FR          5269              EIN   \n",
       "990565         9400373          FR          5269              EIN   \n",
       "990566         9400373          FR          5269              EIN   \n",
       "990567         9400373          FR          5269              EIN   \n",
       "\n",
       "       ArrivalAirport DepartureDateTimeLocal DepartureDateTimeUTC  \\\n",
       "0                 STN       15/06/2022 06:30     15/06/2022 04:30   \n",
       "1                 STN       15/06/2022 06:30     15/06/2022 04:30   \n",
       "2                 STN       15/06/2022 06:30     15/06/2022 04:30   \n",
       "3                 STN       15/06/2022 06:30     15/06/2022 04:30   \n",
       "4                 STN       15/06/2022 06:30     15/06/2022 04:30   \n",
       "...               ...                    ...                  ...   \n",
       "990563            SVQ       01/07/2022 09:40     01/07/2022 07:40   \n",
       "990564            SVQ       01/07/2022 09:40     01/07/2022 07:40   \n",
       "990565            SVQ       01/07/2022 09:40     01/07/2022 07:40   \n",
       "990566            SVQ       01/07/2022 09:40     01/07/2022 07:40   \n",
       "990567            SVQ       01/07/2022 09:40     01/07/2022 07:40   \n",
       "\n",
       "       ArrivalDateTimeLocal ArrivalDateTimeUTC  ArrivalCountry  \\\n",
       "0          15/06/2022 07:20   15/06/2022 06:20  United Kingdom   \n",
       "1          15/06/2022 07:20   15/06/2022 06:20  United Kingdom   \n",
       "2          15/06/2022 07:20   15/06/2022 06:20  United Kingdom   \n",
       "3          15/06/2022 07:20   15/06/2022 06:20  United Kingdom   \n",
       "4          15/06/2022 07:20   15/06/2022 06:20  United Kingdom   \n",
       "...                     ...                ...             ...   \n",
       "990563     01/07/2022 12:30   01/07/2022 10:30           Spain   \n",
       "990564     01/07/2022 12:30   01/07/2022 10:30           Spain   \n",
       "990565     01/07/2022 12:30   01/07/2022 10:30           Spain   \n",
       "990566     01/07/2022 12:30   01/07/2022 10:30           Spain   \n",
       "990567     01/07/2022 12:30   01/07/2022 10:30           Spain   \n",
       "\n",
       "       DepartureCountry RouteGroup          Region  FlightCapacity  \\\n",
       "0               Germany       CITY  LON CITY MULTI             189   \n",
       "1               Germany       CITY  LON CITY MULTI             189   \n",
       "2               Germany       CITY  LON CITY MULTI             189   \n",
       "3               Germany       CITY  LON CITY MULTI             189   \n",
       "4               Germany       CITY  LON CITY MULTI             189   \n",
       "...                 ...        ...             ...             ...   \n",
       "990563      Netherlands       CITY       BENL-ESPT             189   \n",
       "990564      Netherlands       CITY       BENL-ESPT             189   \n",
       "990565      Netherlands       CITY       BENL-ESPT             189   \n",
       "990566      Netherlands       CITY       BENL-ESPT             189   \n",
       "990567      Netherlands       CITY       BENL-ESPT             189   \n",
       "\n",
       "       FlightStatus  Unnamed: 0  PurchaseDateSK  Passenger_UnitsSold  \\\n",
       "0          Departed      309271      20220107.0                    1   \n",
       "1          Departed      309272      20220213.0                    0   \n",
       "2          Departed      309273      20220217.0                    4   \n",
       "3          Departed      309274      20220407.0                    3   \n",
       "4          Departed      309275      20220408.0                    2   \n",
       "...             ...         ...             ...                  ...   \n",
       "990563     Departed      410432      20220628.0                    7   \n",
       "990564     Departed      410433      20220629.0                    1   \n",
       "990565     Departed      410434      20220630.0                    0   \n",
       "990566     Departed      410435      20220701.0                    0   \n",
       "990567     Departed      410436      20220717.0                    0   \n",
       "\n",
       "        Priority_Boarding_UnitsSold Priority_Boarding_RevenueEUR  \\\n",
       "0                               0.0                          0,0   \n",
       "1                               0.0                          0,0   \n",
       "2                               0.0                          0,0   \n",
       "3                               1.0                          6,0   \n",
       "4                               2.0                         12,0   \n",
       "...                             ...                          ...   \n",
       "990563                          0.0                          0,0   \n",
       "990564                          0.0                          0,0   \n",
       "990565                          0.0                          0,0   \n",
       "990566                          0.0                          0,0   \n",
       "990567                          0.0                          0,0   \n",
       "\n",
       "        20KG_Bag_UnitsSold  20KG_Bag_RevenueEUR  10KG_Bag_UnitsSold  \\\n",
       "0                      0.0                 0.00                 0.0   \n",
       "1                      0.0                 0.00                 0.0   \n",
       "2                      1.0                22.57                 0.0   \n",
       "3                      0.0                 0.00                 0.0   \n",
       "4                      0.0                 0.00                 0.0   \n",
       "...                    ...                  ...                 ...   \n",
       "990563                 0.0                 0.00                 4.0   \n",
       "990564                 0.0                 0.00                 0.0   \n",
       "990565                 1.0                59.99                 3.0   \n",
       "990566                 0.0                 0.00                 0.0   \n",
       "990567                 0.0                 0.00                 0.0   \n",
       "\n",
       "        10KG_Bag_RevenueEUR  \n",
       "0                      0.00  \n",
       "1                      0.00  \n",
       "2                      0.00  \n",
       "3                      0.00  \n",
       "4                      0.00  \n",
       "...                     ...  \n",
       "990563               125.99  \n",
       "990564                 0.00  \n",
       "990565               107.97  \n",
       "990566                 0.00  \n",
       "990567                 0.00  \n",
       "\n",
       "[990568 rows x 24 columns]"
      ]
     },
     "execution_count": 8,
     "metadata": {},
     "output_type": "execute_result"
    }
   ],
   "source": [
    "# Merging flight and sales data\n",
    "\n",
    "ancillary_revenue = pd.merge(flight_data, sales_data, on = 'InventoryLegSK', how = 'inner')\n",
    "ancillary_revenue"
   ]
  },
  {
   "cell_type": "code",
   "execution_count": 9,
   "id": "fd4173a6",
   "metadata": {
    "colab": {
     "base_uri": "https://localhost:8080/"
    },
    "id": "fd4173a6",
    "outputId": "e6f79485-e6c6-40c5-aace-04c4657f8153"
   },
   "outputs": [
    {
     "data": {
      "text/plain": [
       "0"
      ]
     },
     "execution_count": 9,
     "metadata": {},
     "output_type": "execute_result"
    }
   ],
   "source": [
    "# Viewing duplicate fields\n",
    "\n",
    "ancillary_revenue.duplicated().sum()"
   ]
  },
  {
   "cell_type": "code",
   "execution_count": 10,
   "id": "6OsTz6VBDWSI",
   "metadata": {
    "colab": {
     "base_uri": "https://localhost:8080/"
    },
    "id": "6OsTz6VBDWSI",
    "outputId": "57337811-9ea1-4231-82f8-dec7283c3cd2"
   },
   "outputs": [
    {
     "data": {
      "text/plain": [
       "0"
      ]
     },
     "execution_count": 10,
     "metadata": {},
     "output_type": "execute_result"
    }
   ],
   "source": [
    "validation_data.duplicated().sum()"
   ]
  },
  {
   "cell_type": "markdown",
   "id": "29538025",
   "metadata": {
    "id": "29538025"
   },
   "source": [
    "### Null Values"
   ]
  },
  {
   "cell_type": "code",
   "execution_count": 12,
   "id": "a0bf1df1",
   "metadata": {
    "colab": {
     "base_uri": "https://localhost:8080/"
    },
    "id": "a0bf1df1",
    "outputId": "b8df7bc8-1c4d-45e4-dea2-3b72ab612ec9"
   },
   "outputs": [
    {
     "data": {
      "text/plain": [
       "InventoryLegSK                  0.000000\n",
       "CarrierCode                     0.000000\n",
       "FlightNumber                    0.000000\n",
       "DepartureAirport                0.000000\n",
       "ArrivalAirport                  0.000000\n",
       "DepartureDateTimeLocal          0.000000\n",
       "DepartureDateTimeUTC            0.000000\n",
       "ArrivalDateTimeLocal            0.000000\n",
       "ArrivalDateTimeUTC              0.000000\n",
       "ArrivalCountry                  0.000000\n",
       "DepartureCountry                0.000000\n",
       "RouteGroup                      0.000000\n",
       "Region                          0.000000\n",
       "FlightCapacity                  0.000000\n",
       "FlightStatus                    0.526567\n",
       "Unnamed: 0                      0.000000\n",
       "PurchaseDateSK                  0.401285\n",
       "Passenger_UnitsSold             0.000000\n",
       "Priority_Boarding_UnitsSold     0.326580\n",
       "Priority_Boarding_RevenueEUR    0.326580\n",
       "20KG_Bag_UnitsSold              0.996802\n",
       "20KG_Bag_RevenueEUR             0.996802\n",
       "10KG_Bag_UnitsSold              0.030084\n",
       "10KG_Bag_RevenueEUR             0.030084\n",
       "dtype: float64"
      ]
     },
     "execution_count": 12,
     "metadata": {},
     "output_type": "execute_result"
    }
   ],
   "source": [
    "# Viewing nulls in percentage\n",
    "\n",
    "(ancillary_revenue.isnull().sum()/len(ancillary_revenue))*100"
   ]
  },
  {
   "cell_type": "code",
   "execution_count": 13,
   "id": "eqTj6MGQDdF1",
   "metadata": {
    "colab": {
     "base_uri": "https://localhost:8080/"
    },
    "id": "eqTj6MGQDdF1",
    "outputId": "975092d4-6c03-467e-f17c-750aba0da5ee"
   },
   "outputs": [
    {
     "data": {
      "text/plain": [
       "InventoryLegSK            0.0\n",
       "CarrierCode               0.0\n",
       "FlightNumber              0.0\n",
       "DepartureAirport          0.0\n",
       "ArrivalAirport            0.0\n",
       "DepartureDateTimeLocal    0.0\n",
       "DepartureDateTimeUTC      0.0\n",
       "ArrivalDateTimeLocal      0.0\n",
       "ArrivalDateTimeUTC        0.0\n",
       "ArrivalCountry            0.0\n",
       "DepartureCountry          0.0\n",
       "RouteGroup                0.0\n",
       "Region                    0.0\n",
       "FlightCapacity            0.0\n",
       "dtype: float64"
      ]
     },
     "execution_count": 13,
     "metadata": {},
     "output_type": "execute_result"
    }
   ],
   "source": [
    "validation_data.isnull().sum()/len(validation_data)*100"
   ]
  },
  {
   "cell_type": "code",
   "execution_count": 14,
   "id": "28497af7",
   "metadata": {
    "id": "28497af7"
   },
   "outputs": [],
   "source": [
    "# Fixing null fields by filling mode or mean\n",
    "\n",
    "# Filling nulls by mode for object\n",
    "ancillary_revenue['FlightStatus'] = ancillary_revenue['FlightStatus'].fillna(ancillary_revenue['FlightStatus'].mode().values[0])\n",
    "# ancillary_revenue['Priority_Boarding_RevenueEUR'] = ancillary_revenue['Priority_Boarding_RevenueEUR'].fillna(ancillary_revenue['Priority_Boarding_RevenueEUR'].mode().values[0])\n",
    "\n",
    "# Filling nulls by mean for numeric\n",
    "ancillary_revenue['Priority_Boarding_UnitsSold'] = ancillary_revenue['Priority_Boarding_UnitsSold'].fillna(0)\n",
    "ancillary_revenue['20KG_Bag_UnitsSold'] = ancillary_revenue['20KG_Bag_UnitsSold'].fillna(0)\n",
    "ancillary_revenue['20KG_Bag_RevenueEUR'] = ancillary_revenue['20KG_Bag_RevenueEUR'].fillna(0)\n",
    "ancillary_revenue['10KG_Bag_UnitsSold'] = ancillary_revenue['10KG_Bag_UnitsSold'].fillna(0)\n",
    "ancillary_revenue['10KG_Bag_RevenueEUR'] = ancillary_revenue['10KG_Bag_RevenueEUR'].fillna(0)\n",
    "\n",
    "# Filling nulls by median for columns that have datetime data\n",
    "ancillary_revenue['PurchaseDateSK'] = ancillary_revenue['PurchaseDateSK'].fillna(ancillary_revenue['PurchaseDateSK'].median())\n",
    "# Note: PurchaseDateSK is a float, however, as it represents date, we have taken median and not mean."
   ]
  },
  {
   "cell_type": "code",
   "execution_count": 15,
   "id": "1d543cef",
   "metadata": {
    "colab": {
     "base_uri": "https://localhost:8080/"
    },
    "id": "1d543cef",
    "outputId": "1984cdb7-c643-4ad4-8650-3c8aa239f182"
   },
   "outputs": [
    {
     "data": {
      "text/plain": [
       "InventoryLegSK                  0.00000\n",
       "CarrierCode                     0.00000\n",
       "FlightNumber                    0.00000\n",
       "DepartureAirport                0.00000\n",
       "ArrivalAirport                  0.00000\n",
       "DepartureDateTimeLocal          0.00000\n",
       "DepartureDateTimeUTC            0.00000\n",
       "ArrivalDateTimeLocal            0.00000\n",
       "ArrivalDateTimeUTC              0.00000\n",
       "ArrivalCountry                  0.00000\n",
       "DepartureCountry                0.00000\n",
       "RouteGroup                      0.00000\n",
       "Region                          0.00000\n",
       "FlightCapacity                  0.00000\n",
       "FlightStatus                    0.00000\n",
       "Unnamed: 0                      0.00000\n",
       "PurchaseDateSK                  0.00000\n",
       "Passenger_UnitsSold             0.00000\n",
       "Priority_Boarding_UnitsSold     0.00000\n",
       "Priority_Boarding_RevenueEUR    0.32658\n",
       "20KG_Bag_UnitsSold              0.00000\n",
       "20KG_Bag_RevenueEUR             0.00000\n",
       "10KG_Bag_UnitsSold              0.00000\n",
       "10KG_Bag_RevenueEUR             0.00000\n",
       "dtype: float64"
      ]
     },
     "execution_count": 15,
     "metadata": {},
     "output_type": "execute_result"
    }
   ],
   "source": [
    "# Verifying nulls in percentage after fixing\n",
    "\n",
    "(ancillary_revenue.isnull().sum()/len(ancillary_revenue))*100"
   ]
  },
  {
   "cell_type": "markdown",
   "id": "60bfee04",
   "metadata": {
    "id": "60bfee04"
   },
   "source": [
    "### Data Types"
   ]
  },
  {
   "cell_type": "code",
   "execution_count": 17,
   "id": "0cbe90b0",
   "metadata": {
    "colab": {
     "base_uri": "https://localhost:8080/"
    },
    "id": "0cbe90b0",
    "outputId": "21ced37a-a234-4d27-8ebf-77b92c6c2828"
   },
   "outputs": [
    {
     "data": {
      "text/plain": [
       "InventoryLegSK                    int64\n",
       "CarrierCode                      object\n",
       "FlightNumber                      int64\n",
       "DepartureAirport                 object\n",
       "ArrivalAirport                   object\n",
       "DepartureDateTimeLocal           object\n",
       "DepartureDateTimeUTC             object\n",
       "ArrivalDateTimeLocal             object\n",
       "ArrivalDateTimeUTC               object\n",
       "ArrivalCountry                   object\n",
       "DepartureCountry                 object\n",
       "RouteGroup                       object\n",
       "Region                           object\n",
       "FlightCapacity                    int64\n",
       "FlightStatus                     object\n",
       "Unnamed: 0                        int64\n",
       "PurchaseDateSK                  float64\n",
       "Passenger_UnitsSold               int64\n",
       "Priority_Boarding_UnitsSold     float64\n",
       "Priority_Boarding_RevenueEUR     object\n",
       "20KG_Bag_UnitsSold              float64\n",
       "20KG_Bag_RevenueEUR             float64\n",
       "10KG_Bag_UnitsSold              float64\n",
       "10KG_Bag_RevenueEUR             float64\n",
       "dtype: object"
      ]
     },
     "execution_count": 17,
     "metadata": {},
     "output_type": "execute_result"
    }
   ],
   "source": [
    "# Viewing data types\n",
    "\n",
    "ancillary_revenue.dtypes"
   ]
  },
  {
   "cell_type": "code",
   "execution_count": 18,
   "id": "bc380b61",
   "metadata": {
    "id": "bc380b61"
   },
   "outputs": [],
   "source": [
    "# Converting data types\n",
    "\n",
    "# For datetime columns\n",
    "ancillary_revenue['DepartureDateTimeLocal'] = pd.to_datetime(ancillary_revenue['DepartureDateTimeLocal'], format='%d/%m/%Y %H:%M')\n",
    "ancillary_revenue['DepartureDateTimeUTC'] = pd.to_datetime(ancillary_revenue['DepartureDateTimeUTC'], format='%d/%m/%Y %H:%M')\n",
    "ancillary_revenue['ArrivalDateTimeLocal'] = pd.to_datetime(ancillary_revenue['ArrivalDateTimeLocal'], format='%d/%m/%Y %H:%M')\n",
    "ancillary_revenue['ArrivalDateTimeUTC'] = pd.to_datetime(ancillary_revenue['ArrivalDateTimeUTC'], format='%d/%m/%Y %H:%M')\n",
    "\n",
    "# For other columns\n",
    "ancillary_revenue['Priority_Boarding_RevenueEUR'] = ancillary_revenue['Priority_Boarding_RevenueEUR'].replace('0,0', np.nan)\n",
    "ancillary_revenue['Priority_Boarding_RevenueEUR'] = pd.to_numeric(ancillary_revenue['Priority_Boarding_RevenueEUR'].str.replace(',', ''), errors='coerce')\n",
    "\n",
    "# Filling nulls in Priority Boarding Revenue by 0:\n",
    "ancillary_revenue['Priority_Boarding_RevenueEUR'] = ancillary_revenue['Priority_Boarding_RevenueEUR'].fillna(0)"
   ]
  },
  {
   "cell_type": "code",
   "execution_count": 19,
   "id": "OhBwNbfYDuFL",
   "metadata": {
    "colab": {
     "base_uri": "https://localhost:8080/"
    },
    "id": "OhBwNbfYDuFL",
    "outputId": "35db0b8a-6a3d-414e-c5d5-c05021cd476b"
   },
   "outputs": [
    {
     "data": {
      "text/plain": [
       "InventoryLegSK             int64\n",
       "CarrierCode               object\n",
       "FlightNumber               int64\n",
       "DepartureAirport          object\n",
       "ArrivalAirport            object\n",
       "DepartureDateTimeLocal    object\n",
       "DepartureDateTimeUTC      object\n",
       "ArrivalDateTimeLocal      object\n",
       "ArrivalDateTimeUTC        object\n",
       "ArrivalCountry            object\n",
       "DepartureCountry          object\n",
       "RouteGroup                object\n",
       "Region                    object\n",
       "FlightCapacity             int64\n",
       "dtype: object"
      ]
     },
     "execution_count": 19,
     "metadata": {},
     "output_type": "execute_result"
    }
   ],
   "source": [
    "validation_data.dtypes"
   ]
  },
  {
   "cell_type": "code",
   "execution_count": 20,
   "id": "6prcfw1jDtvj",
   "metadata": {
    "id": "6prcfw1jDtvj"
   },
   "outputs": [],
   "source": [
    "# Converting data types in validation set\n",
    "\n",
    "validation_data['DepartureDateTimeLocal'] = pd.to_datetime(validation_data['DepartureDateTimeLocal'], format='%d/%m/%Y %H:%M')\n",
    "validation_data['DepartureDateTimeUTC'] = pd.to_datetime(validation_data['DepartureDateTimeUTC'], format='%d/%m/%Y %H:%M')\n",
    "validation_data['ArrivalDateTimeLocal'] = pd.to_datetime(validation_data['ArrivalDateTimeLocal'], format='%d/%m/%Y %H:%M')\n",
    "validation_data['ArrivalDateTimeUTC'] = pd.to_datetime(validation_data['ArrivalDateTimeUTC'], format='%d/%m/%Y %H:%M')"
   ]
  },
  {
   "cell_type": "code",
   "execution_count": 21,
   "id": "592e4383-33e3-48e3-9168-88d18c9034ce",
   "metadata": {
    "colab": {
     "base_uri": "https://localhost:8080/"
    },
    "id": "592e4383-33e3-48e3-9168-88d18c9034ce",
    "outputId": "264c6922-d241-4ad7-f788-ce5edd50cc3a"
   },
   "outputs": [
    {
     "name": "stdout",
     "output_type": "stream",
     "text": [
      "<class 'pandas.core.frame.DataFrame'>\n",
      "RangeIndex: 990568 entries, 0 to 990567\n",
      "Data columns (total 24 columns):\n",
      " #   Column                        Non-Null Count   Dtype         \n",
      "---  ------                        --------------   -----         \n",
      " 0   InventoryLegSK                990568 non-null  int64         \n",
      " 1   CarrierCode                   990568 non-null  object        \n",
      " 2   FlightNumber                  990568 non-null  int64         \n",
      " 3   DepartureAirport              990568 non-null  object        \n",
      " 4   ArrivalAirport                990568 non-null  object        \n",
      " 5   DepartureDateTimeLocal        990568 non-null  datetime64[ns]\n",
      " 6   DepartureDateTimeUTC          990568 non-null  datetime64[ns]\n",
      " 7   ArrivalDateTimeLocal          990568 non-null  datetime64[ns]\n",
      " 8   ArrivalDateTimeUTC            990568 non-null  datetime64[ns]\n",
      " 9   ArrivalCountry                990568 non-null  object        \n",
      " 10  DepartureCountry              990568 non-null  object        \n",
      " 11  RouteGroup                    990568 non-null  object        \n",
      " 12  Region                        990568 non-null  object        \n",
      " 13  FlightCapacity                990568 non-null  int64         \n",
      " 14  FlightStatus                  990568 non-null  object        \n",
      " 15  Unnamed: 0                    990568 non-null  int64         \n",
      " 16  PurchaseDateSK                990568 non-null  float64       \n",
      " 17  Passenger_UnitsSold           990568 non-null  int64         \n",
      " 18  Priority_Boarding_UnitsSold   990568 non-null  float64       \n",
      " 19  Priority_Boarding_RevenueEUR  990568 non-null  float64       \n",
      " 20  20KG_Bag_UnitsSold            990568 non-null  float64       \n",
      " 21  20KG_Bag_RevenueEUR           990568 non-null  float64       \n",
      " 22  10KG_Bag_UnitsSold            990568 non-null  float64       \n",
      " 23  10KG_Bag_RevenueEUR           990568 non-null  float64       \n",
      "dtypes: datetime64[ns](4), float64(7), int64(5), object(8)\n",
      "memory usage: 181.4+ MB\n"
     ]
    }
   ],
   "source": [
    "ancillary_revenue.info()"
   ]
  },
  {
   "cell_type": "code",
   "execution_count": 22,
   "id": "-BpIuahpEUIh",
   "metadata": {
    "colab": {
     "base_uri": "https://localhost:8080/"
    },
    "id": "-BpIuahpEUIh",
    "outputId": "6658e9ef-cdb1-4e0c-834e-30b265028efb"
   },
   "outputs": [
    {
     "name": "stdout",
     "output_type": "stream",
     "text": [
      "<class 'pandas.core.frame.DataFrame'>\n",
      "RangeIndex: 1924 entries, 0 to 1923\n",
      "Data columns (total 14 columns):\n",
      " #   Column                  Non-Null Count  Dtype         \n",
      "---  ------                  --------------  -----         \n",
      " 0   InventoryLegSK          1924 non-null   int64         \n",
      " 1   CarrierCode             1924 non-null   object        \n",
      " 2   FlightNumber            1924 non-null   int64         \n",
      " 3   DepartureAirport        1924 non-null   object        \n",
      " 4   ArrivalAirport          1924 non-null   object        \n",
      " 5   DepartureDateTimeLocal  1924 non-null   datetime64[ns]\n",
      " 6   DepartureDateTimeUTC    1924 non-null   datetime64[ns]\n",
      " 7   ArrivalDateTimeLocal    1924 non-null   datetime64[ns]\n",
      " 8   ArrivalDateTimeUTC      1924 non-null   datetime64[ns]\n",
      " 9   ArrivalCountry          1924 non-null   object        \n",
      " 10  DepartureCountry        1924 non-null   object        \n",
      " 11  RouteGroup              1924 non-null   object        \n",
      " 12  Region                  1924 non-null   object        \n",
      " 13  FlightCapacity          1924 non-null   int64         \n",
      "dtypes: datetime64[ns](4), int64(3), object(7)\n",
      "memory usage: 210.6+ KB\n"
     ]
    }
   ],
   "source": [
    "validation_data.info()"
   ]
  },
  {
   "cell_type": "markdown",
   "id": "RlWkg-u1gpKY",
   "metadata": {
    "id": "RlWkg-u1gpKY"
   },
   "source": [
    "#### Data Exploration\n",
    "\n"
   ]
  },
  {
   "cell_type": "code",
   "execution_count": 24,
   "id": "nyhPuOo1wvKP",
   "metadata": {
    "id": "nyhPuOo1wvKP"
   },
   "outputs": [],
   "source": [
    "# Cleaning PurchaseDateSK column\n",
    "\n",
    "ancillary_revenue['PurchaseDateSK'] = ancillary_revenue['PurchaseDateSK'].astype(str).str.replace('.0', '', regex=False)\n",
    "ancillary_revenue['PurchaseDateSK'] = pd.to_datetime(ancillary_revenue['PurchaseDateSK'], format='%Y%m%d', errors='coerce')\n"
   ]
  },
  {
   "cell_type": "code",
   "execution_count": 25,
   "id": "6pvqustHawkN",
   "metadata": {
    "colab": {
     "base_uri": "https://localhost:8080/"
    },
    "id": "6pvqustHawkN",
    "outputId": "5f98c196-4ff0-45d0-c2a4-6df90dcce839"
   },
   "outputs": [
    {
     "data": {
      "text/plain": [
       "CarrierCode\n",
       "FR    977385\n",
       "RK     13055\n",
       "RR       128\n",
       "Name: count, dtype: int64"
      ]
     },
     "execution_count": 25,
     "metadata": {},
     "output_type": "execute_result"
    }
   ],
   "source": [
    "ancillary_revenue['CarrierCode'].value_counts(ascending = False)"
   ]
  },
  {
   "cell_type": "code",
   "execution_count": 26,
   "id": "rr740TTHg43w",
   "metadata": {
    "colab": {
     "base_uri": "https://localhost:8080/"
    },
    "id": "rr740TTHg43w",
    "outputId": "d3b9c9e2-f93a-4810-a17e-33f651a80427"
   },
   "outputs": [
    {
     "data": {
      "text/plain": [
       "CarrierCode\n",
       "FR    977385\n",
       "RK     13055\n",
       "RR       128\n",
       "Name: count, dtype: int64"
      ]
     },
     "execution_count": 26,
     "metadata": {},
     "output_type": "execute_result"
    }
   ],
   "source": [
    "ancillary_revenue['CarrierCode'].value_counts(ascending = False)"
   ]
  },
  {
   "cell_type": "code",
   "execution_count": 27,
   "id": "K7qRN8qYhSQd",
   "metadata": {
    "colab": {
     "base_uri": "https://localhost:8080/"
    },
    "id": "K7qRN8qYhSQd",
    "outputId": "2b6a8bb6-b96b-461b-fb69-f48deafa7488"
   },
   "outputs": [
    {
     "data": {
      "text/plain": [
       "DepartureAirport\n",
       "STN    66177\n",
       "BGY    43622\n",
       "PMI    37374\n",
       "DUB    32937\n",
       "BCN    26627\n",
       "       ...  \n",
       "ODS       31\n",
       "LPP       29\n",
       "SEN       13\n",
       "BES        7\n",
       "HRK        3\n",
       "Name: count, Length: 216, dtype: int64"
      ]
     },
     "execution_count": 27,
     "metadata": {},
     "output_type": "execute_result"
    }
   ],
   "source": [
    "ancillary_revenue['DepartureAirport'].value_counts(ascending = False)"
   ]
  },
  {
   "cell_type": "code",
   "execution_count": 28,
   "id": "GOGRs_AbhazY",
   "metadata": {
    "colab": {
     "base_uri": "https://localhost:8080/"
    },
    "id": "GOGRs_AbhazY",
    "outputId": "16da14d0-f80d-431b-cbae-2ee1027a8e26"
   },
   "outputs": [
    {
     "data": {
      "text/plain": [
       "array(['BER', 'EIN', 'BRI', 'DUB', 'PMI', 'KBP', 'BCN', 'MAD', 'TSF',\n",
       "       'LPL', 'FCO', 'BGY', 'MLA', 'MAN', 'ZAD', 'LBA', 'OPO', 'NTE',\n",
       "       'BLQ', 'VLC', 'PSA', 'CRL', 'TPS', 'NCL', 'BOD', 'SCQ', 'KUN',\n",
       "       'FAO', 'MRS', 'SVQ', 'CGN', 'WMI', 'PRG', 'VNO', 'BHX', 'WRO',\n",
       "       'TFN', 'CTA', 'BDS', 'CIA', 'BRU', 'SKG', 'BTS', 'BUD', 'HRK',\n",
       "       'ORK', 'KRK', 'KGS', 'AGP', 'EDI', 'STN', 'LIS', 'LPA', 'PFO',\n",
       "       'MXP', 'VIE', 'GOA', 'BLL', 'PMO', 'NUE', 'ZAG', 'IBZ', 'TLV',\n",
       "       'REU', 'FRA', 'BVA', 'AHO', 'ATH', 'VCE', 'FKB', 'CPH', 'KIR',\n",
       "       'KLX', 'NAP', 'HHN', 'RHO', 'LUX', 'FMM', 'ALC', 'SZZ', 'RIX',\n",
       "       'MAH', 'CDT', 'EXT', 'ZAZ', 'CHQ', 'LWO', 'SUF', 'GOT', 'GDN',\n",
       "       'GRO', 'TFS', 'SCV', 'CAG', 'RMU', 'PSR', 'OTP', 'NCE', 'SOF',\n",
       "       'CIY', 'KTW', 'BIQ', 'TRN', 'CCF', 'VBY', 'BRS', 'LRH', 'FNC',\n",
       "       'ARN', 'VRN', 'TRS', 'JTR', 'PUY', 'PIK', 'AMM', 'NRN', 'TLS',\n",
       "       'ACE', 'BOH', 'HER', 'RBA', 'PDL', 'SNN', 'CFU', 'HAM', 'BZR',\n",
       "       'SEN', 'DLM', 'LDY', 'TRF', 'LDE', 'AMS', 'TLL', 'ZTH', 'SDR',\n",
       "       'HEL', 'EMA', 'LLA', 'POZ', 'JMK', 'PEG', 'SBZ', 'XRY', 'DBV',\n",
       "       'LTN', 'FMO', 'RAK', 'VST', 'BVE', 'CRV', 'BRE', 'ODS', 'FNI',\n",
       "       'EFL', 'OSL', 'SPU', 'BNX', 'MST', 'DTM', 'PVK', 'AOI', 'VAR',\n",
       "       'FSC', 'VIT', 'SPC', 'FUE', 'MME', 'RMI', 'PIS', 'RJK', 'ABZ',\n",
       "       'MMX', 'LIG', 'TUF', 'BOJ', 'AGA', 'LIL', 'VLL', 'AAR', 'FEZ',\n",
       "       'TSR', 'PGF', 'DRS', 'PMF', 'NOC', 'GLA', 'LEI', 'LGW', 'BSL',\n",
       "       'SFT', 'SZY', 'VGO', 'CUF', 'TGD', 'OMR', 'EGC', 'TER', 'BES',\n",
       "       'NQY', 'JSI', 'AAL', 'VXO', 'INI', 'LPP', 'TMP', 'SZG', 'LUZ',\n",
       "       'ORB', 'BJV', 'CWL', 'DLE', 'HAU', 'LCA', 'CFE', 'RDZ', 'PED'],\n",
       "      dtype=object)"
      ]
     },
     "execution_count": 28,
     "metadata": {},
     "output_type": "execute_result"
    }
   ],
   "source": [
    "ancillary_revenue['DepartureAirport'].unique()"
   ]
  },
  {
   "cell_type": "code",
   "execution_count": 29,
   "id": "E_IG7WY6hkON",
   "metadata": {
    "colab": {
     "base_uri": "https://localhost:8080/"
    },
    "id": "E_IG7WY6hkON",
    "outputId": "2fa6229e-494f-4ed9-8b31-7a0629f612ae"
   },
   "outputs": [
    {
     "data": {
      "text/plain": [
       "ArrivalAirport\n",
       "STN    62169\n",
       "BGY    39161\n",
       "PMI    35113\n",
       "DUB    33370\n",
       "BCN    29642\n",
       "       ...  \n",
       "ODS       13\n",
       "BES       13\n",
       "SEN        5\n",
       "HRK        4\n",
       "LEJ        1\n",
       "Name: count, Length: 217, dtype: int64"
      ]
     },
     "execution_count": 29,
     "metadata": {},
     "output_type": "execute_result"
    }
   ],
   "source": [
    "ancillary_revenue['ArrivalAirport'].value_counts(ascending = False)"
   ]
  },
  {
   "cell_type": "code",
   "execution_count": 30,
   "id": "xG2kXNmhkN9Y",
   "metadata": {
    "colab": {
     "base_uri": "https://localhost:8080/"
    },
    "id": "xG2kXNmhkN9Y",
    "outputId": "765f750c-5275-4964-9084-0149fc1428b3"
   },
   "outputs": [
    {
     "data": {
      "text/plain": [
       "array(['STN', 'NAP', 'CTA', 'BUD', 'HHN', 'BLQ', 'HAM', 'CIA', 'BRS',\n",
       "       'CPH', 'SOF', 'MAH', 'TSF', 'ZAD', 'HEL', 'GRO', 'SUF', 'CFE',\n",
       "       'DUB', 'AHO', 'BGY', 'WMI', 'PSA', 'IBZ', 'BER', 'BLL', 'FMM',\n",
       "       'ARN', 'EMA', 'LIL', 'AGP', 'LTN', 'MAD', 'BCN', 'MAN', 'GDN',\n",
       "       'ALC', 'FCO', 'PMO', 'CGN', 'BOJ', 'NRN', 'PMI', 'BVA', 'REU',\n",
       "       'CAG', 'EIN', 'FKB', 'EDI', 'FAO', 'OPO', 'VLC', 'LIS', 'MRS',\n",
       "       'VIE', 'PSR', 'VGO', 'ORK', 'CRL', 'MXP', 'TRS', 'EFL', 'BRI',\n",
       "       'OTP', 'BZR', 'VRN', 'PVK', 'INI', 'KTW', 'BDS', 'NCL', 'LPL',\n",
       "       'KLX', 'NUE', 'CFU', 'SCQ', 'BTS', 'BRU', 'CUF', 'LPA', 'TRF',\n",
       "       'RHO', 'PRG', 'TGD', 'PFO', 'SKG', 'CHQ', 'NOC', 'SVQ', 'HER',\n",
       "       'ATH', 'VCE', 'TRN', 'ZTH', 'TLS', 'FMO', 'CIY', 'VIT', 'POZ',\n",
       "       'WRO', 'MLA', 'TPS', 'KGS', 'BHX', 'ACE', 'KRK', 'CCF', 'LBA',\n",
       "       'LUX', 'SFT', 'SDR', 'FNC', 'SBZ', 'PUY', 'LRH', 'SPC', 'FRA',\n",
       "       'TFN', 'EGC', 'BOD', 'BOH', 'ODS', 'HAU', 'TLV', 'FEZ', 'VST',\n",
       "       'KUN', 'KIR', 'PIK', 'TFS', 'TSR', 'PEG', 'KBP', 'ZAG', 'NTE',\n",
       "       'DTM', 'NCE', 'GOA', 'RMI', 'AMM', 'RAK', 'BRE', 'JTR', 'CRV',\n",
       "       'LWO', 'VNO', 'AMS', 'TER', 'VBY', 'PDL', 'RIX', 'LDE', 'PIS',\n",
       "       'LPP', 'ORB', 'BIQ', 'RMU', 'BVE', 'JMK', 'BES', 'GOT', 'FSC',\n",
       "       'ABZ', 'ZAZ', 'OSL', 'JSI', 'LIG', 'SNN', 'BNX', 'GLA', 'VXO',\n",
       "       'LCA', 'MMX', 'TLL', 'PGF', 'RJK', 'DRS', 'AOI', 'DLE', 'FUE',\n",
       "       'VAR', 'NQY', 'AAR', 'RDZ', 'DBV', 'AGA', 'VLL', 'XCR', 'MST',\n",
       "       'OMR', 'HRK', 'DLM', 'AAL', 'SZY', 'LEI', 'TUF', 'LLA', 'XRY',\n",
       "       'EXT', 'LGW', 'SCV', 'SEN', 'FNI', 'SPU', 'PMF', 'TMP', 'SZZ',\n",
       "       'BSL', 'MME', 'SZG', 'LDY', 'TNG', 'FRL', 'LEJ', 'RBA', 'CDT',\n",
       "       'BJV'], dtype=object)"
      ]
     },
     "execution_count": 30,
     "metadata": {},
     "output_type": "execute_result"
    }
   ],
   "source": [
    "ancillary_revenue['ArrivalAirport'].unique()"
   ]
  },
  {
   "cell_type": "code",
   "execution_count": 31,
   "id": "H98AQtHTkSn3",
   "metadata": {
    "colab": {
     "base_uri": "https://localhost:8080/"
    },
    "id": "H98AQtHTkSn3",
    "outputId": "fd138717-3937-4e2b-b10c-3de0e3e86de3"
   },
   "outputs": [
    {
     "data": {
      "text/plain": [
       "array(['United Kingdom', 'Italy', 'Hungary', 'Germany', 'Denmark',\n",
       "       'Bulgaria', 'Spain', 'Croatia', 'Finland', 'France', 'Ireland',\n",
       "       'Poland', 'Sweden', 'Netherlands', 'Portugal', 'Austria',\n",
       "       'Belgium', 'Greece', 'Romania', 'Serbia', 'Slovakia', 'Norway',\n",
       "       'Czech Republic', 'Montenegro', 'Cyprus', 'Malta', 'Luxembourg',\n",
       "       'Ukraine', 'Israel', 'Morocco', 'Lithuania', 'Jordan', 'Latvia',\n",
       "       'Bosnia and Herzegovina', 'Estonia', 'Turkey', 'Switzerland'],\n",
       "      dtype=object)"
      ]
     },
     "execution_count": 31,
     "metadata": {},
     "output_type": "execute_result"
    }
   ],
   "source": [
    "ancillary_revenue['ArrivalCountry'].unique()"
   ]
  },
  {
   "cell_type": "code",
   "execution_count": 32,
   "id": "QYPpYARWknZC",
   "metadata": {
    "colab": {
     "base_uri": "https://localhost:8080/"
    },
    "id": "QYPpYARWknZC",
    "outputId": "c8abd9d7-1fd2-47a6-9dcc-5b892df1aebb"
   },
   "outputs": [
    {
     "data": {
      "text/plain": [
       "array(['Germany', 'Netherlands', 'Italy', 'Ireland', 'Spain', 'Ukraine',\n",
       "       'United Kingdom', 'Malta', 'Croatia', 'Portugal', 'France',\n",
       "       'Belgium', 'Lithuania', 'Poland', 'Czech Republic', 'Greece',\n",
       "       'Slovakia', 'Hungary', 'Cyprus', 'Austria', 'Denmark', 'Israel',\n",
       "       'Luxembourg', 'Latvia', 'Sweden', 'Romania', 'Bulgaria', 'Jordan',\n",
       "       'Morocco', 'Turkey', 'Norway', 'Estonia', 'Finland',\n",
       "       'Bosnia and Herzegovina', 'Switzerland', 'Montenegro', 'Serbia'],\n",
       "      dtype=object)"
      ]
     },
     "execution_count": 32,
     "metadata": {},
     "output_type": "execute_result"
    }
   ],
   "source": [
    "ancillary_revenue['DepartureCountry'].unique()"
   ]
  },
  {
   "cell_type": "code",
   "execution_count": 33,
   "id": "oUaGEHPMkyDM",
   "metadata": {
    "colab": {
     "base_uri": "https://localhost:8080/"
    },
    "id": "oUaGEHPMkyDM",
    "outputId": "3f296a8c-3907-4e48-d477-aed09933c843"
   },
   "outputs": [
    {
     "data": {
      "text/plain": [
       "array(['CITY', 'LEISURE', 'DOMESTIC'], dtype=object)"
      ]
     },
     "execution_count": 33,
     "metadata": {},
     "output_type": "execute_result"
    }
   ],
   "source": [
    "ancillary_revenue['RouteGroup'].unique()"
   ]
  },
  {
   "cell_type": "code",
   "execution_count": 34,
   "id": "fVX7Yxf2laJO",
   "metadata": {
    "colab": {
     "base_uri": "https://localhost:8080/"
    },
    "id": "fVX7Yxf2laJO",
    "outputId": "31a90134-87d3-43d2-eb75-ed4df9129e85"
   },
   "outputs": [
    {
     "data": {
      "text/plain": [
       "Region\n",
       "IT DOM              70321\n",
       "UK REG LEISURE      66641\n",
       "LON CITY MULTI      65155\n",
       "DE LEISURE          61449\n",
       "EAST-ESFRIT         58545\n",
       "CE EUR LEISURE      55352\n",
       "BENLFR LEISURE      50381\n",
       "S EUR LEISURE       49367\n",
       "ESPT-IT             49243\n",
       "MIL DOM             41393\n",
       "IE LEISURE          38376\n",
       "LON CITY            36534\n",
       "IE CITY             36443\n",
       "LON LEISURE         33438\n",
       "ESPT DOM            28659\n",
       "UK REG CITY         25550\n",
       "BCNMAD DOM          23248\n",
       "BENL-FRIT           22772\n",
       "ESPT-FR             19563\n",
       "ROM DOM             18517\n",
       "OTHER DOM           16282\n",
       "ES CANARY           15250\n",
       "SCOT LEISURE        15093\n",
       "BENL-ESPT           14740\n",
       "DE-FRITIE           13479\n",
       "SCAN LEISURE        12924\n",
       "GREECE EURO CITY    12616\n",
       "FR-IT               11811\n",
       "SCAN-ESIT           11537\n",
       "DE-ESPT              8992\n",
       "SCAN N EUR           6415\n",
       "UK DOM                482\n",
       "Name: count, dtype: int64"
      ]
     },
     "execution_count": 34,
     "metadata": {},
     "output_type": "execute_result"
    }
   ],
   "source": [
    "ancillary_revenue['Region'].value_counts(ascending = False)"
   ]
  },
  {
   "cell_type": "code",
   "execution_count": 35,
   "id": "eKcGqSHWlgd6",
   "metadata": {
    "colab": {
     "base_uri": "https://localhost:8080/"
    },
    "id": "eKcGqSHWlgd6",
    "outputId": "e9c53d97-a1d3-41dd-921e-c1c2533f9937"
   },
   "outputs": [
    {
     "data": {
      "text/plain": [
       "FlightCapacity\n",
       "189    809310\n",
       "197    130263\n",
       "180     50993\n",
       "148         2\n",
       "Name: count, dtype: int64"
      ]
     },
     "execution_count": 35,
     "metadata": {},
     "output_type": "execute_result"
    }
   ],
   "source": [
    "ancillary_revenue['FlightCapacity'].value_counts(ascending = False)"
   ]
  },
  {
   "cell_type": "code",
   "execution_count": 36,
   "id": "w8hQ6B3Plz_b",
   "metadata": {
    "colab": {
     "base_uri": "https://localhost:8080/"
    },
    "id": "w8hQ6B3Plz_b",
    "outputId": "b8c0057f-a672-44da-ba30-cdc3f934ddb0"
   },
   "outputs": [
    {
     "data": {
      "text/plain": [
       "FlightStatus\n",
       "Departed     984324\n",
       "Cancelled      6244\n",
       "Name: count, dtype: int64"
      ]
     },
     "execution_count": 36,
     "metadata": {},
     "output_type": "execute_result"
    }
   ],
   "source": [
    "ancillary_revenue['FlightStatus'].value_counts(ascending = False)"
   ]
  },
  {
   "cell_type": "markdown",
   "id": "766abf52",
   "metadata": {
    "id": "766abf52"
   },
   "source": [
    "#  Feature Engineering"
   ]
  },
  {
   "cell_type": "code",
   "execution_count": 38,
   "id": "722645df-8fc9-4f86-a6b1-75c2442f35a8",
   "metadata": {
    "colab": {
     "base_uri": "https://localhost:8080/",
     "height": 721
    },
    "id": "722645df-8fc9-4f86-a6b1-75c2442f35a8",
    "outputId": "4514a0a8-3797-41b7-96f1-553ba9882cda"
   },
   "outputs": [
    {
     "data": {
      "text/html": [
       "<div>\n",
       "<style scoped>\n",
       "    .dataframe tbody tr th:only-of-type {\n",
       "        vertical-align: middle;\n",
       "    }\n",
       "\n",
       "    .dataframe tbody tr th {\n",
       "        vertical-align: top;\n",
       "    }\n",
       "\n",
       "    .dataframe thead th {\n",
       "        text-align: right;\n",
       "    }\n",
       "</style>\n",
       "<table border=\"1\" class=\"dataframe\">\n",
       "  <thead>\n",
       "    <tr style=\"text-align: right;\">\n",
       "      <th></th>\n",
       "      <th>InventoryLegSK</th>\n",
       "      <th>CarrierCode</th>\n",
       "      <th>FlightNumber</th>\n",
       "      <th>DepartureAirport</th>\n",
       "      <th>ArrivalAirport</th>\n",
       "      <th>DepartureDateTimeLocal</th>\n",
       "      <th>DepartureDateTimeUTC</th>\n",
       "      <th>ArrivalDateTimeLocal</th>\n",
       "      <th>ArrivalDateTimeUTC</th>\n",
       "      <th>ArrivalCountry</th>\n",
       "      <th>DepartureCountry</th>\n",
       "      <th>RouteGroup</th>\n",
       "      <th>Region</th>\n",
       "      <th>FlightCapacity</th>\n",
       "      <th>FlightStatus</th>\n",
       "      <th>Unnamed: 0</th>\n",
       "      <th>PurchaseDateSK</th>\n",
       "      <th>Passenger_UnitsSold</th>\n",
       "      <th>Priority_Boarding_UnitsSold</th>\n",
       "      <th>Priority_Boarding_RevenueEUR</th>\n",
       "      <th>20KG_Bag_UnitsSold</th>\n",
       "      <th>20KG_Bag_RevenueEUR</th>\n",
       "      <th>10KG_Bag_UnitsSold</th>\n",
       "      <th>10KG_Bag_RevenueEUR</th>\n",
       "      <th>Ancillary_Revenue</th>\n",
       "    </tr>\n",
       "  </thead>\n",
       "  <tbody>\n",
       "    <tr>\n",
       "      <th>0</th>\n",
       "      <td>9153888</td>\n",
       "      <td>FR</td>\n",
       "      <td>144</td>\n",
       "      <td>BER</td>\n",
       "      <td>STN</td>\n",
       "      <td>2022-06-15 06:30:00</td>\n",
       "      <td>2022-06-15 04:30:00</td>\n",
       "      <td>2022-06-15 07:20:00</td>\n",
       "      <td>2022-06-15 06:20:00</td>\n",
       "      <td>United Kingdom</td>\n",
       "      <td>Germany</td>\n",
       "      <td>CITY</td>\n",
       "      <td>LON CITY MULTI</td>\n",
       "      <td>189</td>\n",
       "      <td>Departed</td>\n",
       "      <td>309271</td>\n",
       "      <td>2022-01-07</td>\n",
       "      <td>1</td>\n",
       "      <td>0.0</td>\n",
       "      <td>0.0</td>\n",
       "      <td>0.0</td>\n",
       "      <td>0.00</td>\n",
       "      <td>0.0</td>\n",
       "      <td>0.00</td>\n",
       "      <td>0.00</td>\n",
       "    </tr>\n",
       "    <tr>\n",
       "      <th>1</th>\n",
       "      <td>9153888</td>\n",
       "      <td>FR</td>\n",
       "      <td>144</td>\n",
       "      <td>BER</td>\n",
       "      <td>STN</td>\n",
       "      <td>2022-06-15 06:30:00</td>\n",
       "      <td>2022-06-15 04:30:00</td>\n",
       "      <td>2022-06-15 07:20:00</td>\n",
       "      <td>2022-06-15 06:20:00</td>\n",
       "      <td>United Kingdom</td>\n",
       "      <td>Germany</td>\n",
       "      <td>CITY</td>\n",
       "      <td>LON CITY MULTI</td>\n",
       "      <td>189</td>\n",
       "      <td>Departed</td>\n",
       "      <td>309272</td>\n",
       "      <td>2022-02-13</td>\n",
       "      <td>0</td>\n",
       "      <td>0.0</td>\n",
       "      <td>0.0</td>\n",
       "      <td>0.0</td>\n",
       "      <td>0.00</td>\n",
       "      <td>0.0</td>\n",
       "      <td>0.00</td>\n",
       "      <td>0.00</td>\n",
       "    </tr>\n",
       "    <tr>\n",
       "      <th>2</th>\n",
       "      <td>9153888</td>\n",
       "      <td>FR</td>\n",
       "      <td>144</td>\n",
       "      <td>BER</td>\n",
       "      <td>STN</td>\n",
       "      <td>2022-06-15 06:30:00</td>\n",
       "      <td>2022-06-15 04:30:00</td>\n",
       "      <td>2022-06-15 07:20:00</td>\n",
       "      <td>2022-06-15 06:20:00</td>\n",
       "      <td>United Kingdom</td>\n",
       "      <td>Germany</td>\n",
       "      <td>CITY</td>\n",
       "      <td>LON CITY MULTI</td>\n",
       "      <td>189</td>\n",
       "      <td>Departed</td>\n",
       "      <td>309273</td>\n",
       "      <td>2022-02-17</td>\n",
       "      <td>4</td>\n",
       "      <td>0.0</td>\n",
       "      <td>0.0</td>\n",
       "      <td>1.0</td>\n",
       "      <td>22.57</td>\n",
       "      <td>0.0</td>\n",
       "      <td>0.00</td>\n",
       "      <td>22.57</td>\n",
       "    </tr>\n",
       "    <tr>\n",
       "      <th>3</th>\n",
       "      <td>9153888</td>\n",
       "      <td>FR</td>\n",
       "      <td>144</td>\n",
       "      <td>BER</td>\n",
       "      <td>STN</td>\n",
       "      <td>2022-06-15 06:30:00</td>\n",
       "      <td>2022-06-15 04:30:00</td>\n",
       "      <td>2022-06-15 07:20:00</td>\n",
       "      <td>2022-06-15 06:20:00</td>\n",
       "      <td>United Kingdom</td>\n",
       "      <td>Germany</td>\n",
       "      <td>CITY</td>\n",
       "      <td>LON CITY MULTI</td>\n",
       "      <td>189</td>\n",
       "      <td>Departed</td>\n",
       "      <td>309274</td>\n",
       "      <td>2022-04-07</td>\n",
       "      <td>3</td>\n",
       "      <td>1.0</td>\n",
       "      <td>60.0</td>\n",
       "      <td>0.0</td>\n",
       "      <td>0.00</td>\n",
       "      <td>0.0</td>\n",
       "      <td>0.00</td>\n",
       "      <td>60.00</td>\n",
       "    </tr>\n",
       "    <tr>\n",
       "      <th>4</th>\n",
       "      <td>9153888</td>\n",
       "      <td>FR</td>\n",
       "      <td>144</td>\n",
       "      <td>BER</td>\n",
       "      <td>STN</td>\n",
       "      <td>2022-06-15 06:30:00</td>\n",
       "      <td>2022-06-15 04:30:00</td>\n",
       "      <td>2022-06-15 07:20:00</td>\n",
       "      <td>2022-06-15 06:20:00</td>\n",
       "      <td>United Kingdom</td>\n",
       "      <td>Germany</td>\n",
       "      <td>CITY</td>\n",
       "      <td>LON CITY MULTI</td>\n",
       "      <td>189</td>\n",
       "      <td>Departed</td>\n",
       "      <td>309275</td>\n",
       "      <td>2022-04-08</td>\n",
       "      <td>2</td>\n",
       "      <td>2.0</td>\n",
       "      <td>120.0</td>\n",
       "      <td>0.0</td>\n",
       "      <td>0.00</td>\n",
       "      <td>0.0</td>\n",
       "      <td>0.00</td>\n",
       "      <td>120.00</td>\n",
       "    </tr>\n",
       "    <tr>\n",
       "      <th>...</th>\n",
       "      <td>...</td>\n",
       "      <td>...</td>\n",
       "      <td>...</td>\n",
       "      <td>...</td>\n",
       "      <td>...</td>\n",
       "      <td>...</td>\n",
       "      <td>...</td>\n",
       "      <td>...</td>\n",
       "      <td>...</td>\n",
       "      <td>...</td>\n",
       "      <td>...</td>\n",
       "      <td>...</td>\n",
       "      <td>...</td>\n",
       "      <td>...</td>\n",
       "      <td>...</td>\n",
       "      <td>...</td>\n",
       "      <td>...</td>\n",
       "      <td>...</td>\n",
       "      <td>...</td>\n",
       "      <td>...</td>\n",
       "      <td>...</td>\n",
       "      <td>...</td>\n",
       "      <td>...</td>\n",
       "      <td>...</td>\n",
       "      <td>...</td>\n",
       "    </tr>\n",
       "    <tr>\n",
       "      <th>990563</th>\n",
       "      <td>9400373</td>\n",
       "      <td>FR</td>\n",
       "      <td>5269</td>\n",
       "      <td>EIN</td>\n",
       "      <td>SVQ</td>\n",
       "      <td>2022-07-01 09:40:00</td>\n",
       "      <td>2022-07-01 07:40:00</td>\n",
       "      <td>2022-07-01 12:30:00</td>\n",
       "      <td>2022-07-01 10:30:00</td>\n",
       "      <td>Spain</td>\n",
       "      <td>Netherlands</td>\n",
       "      <td>CITY</td>\n",
       "      <td>BENL-ESPT</td>\n",
       "      <td>189</td>\n",
       "      <td>Departed</td>\n",
       "      <td>410432</td>\n",
       "      <td>2022-06-28</td>\n",
       "      <td>7</td>\n",
       "      <td>0.0</td>\n",
       "      <td>0.0</td>\n",
       "      <td>0.0</td>\n",
       "      <td>0.00</td>\n",
       "      <td>4.0</td>\n",
       "      <td>125.99</td>\n",
       "      <td>125.99</td>\n",
       "    </tr>\n",
       "    <tr>\n",
       "      <th>990564</th>\n",
       "      <td>9400373</td>\n",
       "      <td>FR</td>\n",
       "      <td>5269</td>\n",
       "      <td>EIN</td>\n",
       "      <td>SVQ</td>\n",
       "      <td>2022-07-01 09:40:00</td>\n",
       "      <td>2022-07-01 07:40:00</td>\n",
       "      <td>2022-07-01 12:30:00</td>\n",
       "      <td>2022-07-01 10:30:00</td>\n",
       "      <td>Spain</td>\n",
       "      <td>Netherlands</td>\n",
       "      <td>CITY</td>\n",
       "      <td>BENL-ESPT</td>\n",
       "      <td>189</td>\n",
       "      <td>Departed</td>\n",
       "      <td>410433</td>\n",
       "      <td>2022-06-29</td>\n",
       "      <td>1</td>\n",
       "      <td>0.0</td>\n",
       "      <td>0.0</td>\n",
       "      <td>0.0</td>\n",
       "      <td>0.00</td>\n",
       "      <td>0.0</td>\n",
       "      <td>0.00</td>\n",
       "      <td>0.00</td>\n",
       "    </tr>\n",
       "    <tr>\n",
       "      <th>990565</th>\n",
       "      <td>9400373</td>\n",
       "      <td>FR</td>\n",
       "      <td>5269</td>\n",
       "      <td>EIN</td>\n",
       "      <td>SVQ</td>\n",
       "      <td>2022-07-01 09:40:00</td>\n",
       "      <td>2022-07-01 07:40:00</td>\n",
       "      <td>2022-07-01 12:30:00</td>\n",
       "      <td>2022-07-01 10:30:00</td>\n",
       "      <td>Spain</td>\n",
       "      <td>Netherlands</td>\n",
       "      <td>CITY</td>\n",
       "      <td>BENL-ESPT</td>\n",
       "      <td>189</td>\n",
       "      <td>Departed</td>\n",
       "      <td>410434</td>\n",
       "      <td>2022-06-30</td>\n",
       "      <td>0</td>\n",
       "      <td>0.0</td>\n",
       "      <td>0.0</td>\n",
       "      <td>1.0</td>\n",
       "      <td>59.99</td>\n",
       "      <td>3.0</td>\n",
       "      <td>107.97</td>\n",
       "      <td>167.96</td>\n",
       "    </tr>\n",
       "    <tr>\n",
       "      <th>990566</th>\n",
       "      <td>9400373</td>\n",
       "      <td>FR</td>\n",
       "      <td>5269</td>\n",
       "      <td>EIN</td>\n",
       "      <td>SVQ</td>\n",
       "      <td>2022-07-01 09:40:00</td>\n",
       "      <td>2022-07-01 07:40:00</td>\n",
       "      <td>2022-07-01 12:30:00</td>\n",
       "      <td>2022-07-01 10:30:00</td>\n",
       "      <td>Spain</td>\n",
       "      <td>Netherlands</td>\n",
       "      <td>CITY</td>\n",
       "      <td>BENL-ESPT</td>\n",
       "      <td>189</td>\n",
       "      <td>Departed</td>\n",
       "      <td>410435</td>\n",
       "      <td>2022-07-01</td>\n",
       "      <td>0</td>\n",
       "      <td>0.0</td>\n",
       "      <td>0.0</td>\n",
       "      <td>0.0</td>\n",
       "      <td>0.00</td>\n",
       "      <td>0.0</td>\n",
       "      <td>0.00</td>\n",
       "      <td>0.00</td>\n",
       "    </tr>\n",
       "    <tr>\n",
       "      <th>990567</th>\n",
       "      <td>9400373</td>\n",
       "      <td>FR</td>\n",
       "      <td>5269</td>\n",
       "      <td>EIN</td>\n",
       "      <td>SVQ</td>\n",
       "      <td>2022-07-01 09:40:00</td>\n",
       "      <td>2022-07-01 07:40:00</td>\n",
       "      <td>2022-07-01 12:30:00</td>\n",
       "      <td>2022-07-01 10:30:00</td>\n",
       "      <td>Spain</td>\n",
       "      <td>Netherlands</td>\n",
       "      <td>CITY</td>\n",
       "      <td>BENL-ESPT</td>\n",
       "      <td>189</td>\n",
       "      <td>Departed</td>\n",
       "      <td>410436</td>\n",
       "      <td>2022-07-17</td>\n",
       "      <td>0</td>\n",
       "      <td>0.0</td>\n",
       "      <td>0.0</td>\n",
       "      <td>0.0</td>\n",
       "      <td>0.00</td>\n",
       "      <td>0.0</td>\n",
       "      <td>0.00</td>\n",
       "      <td>0.00</td>\n",
       "    </tr>\n",
       "  </tbody>\n",
       "</table>\n",
       "<p>990568 rows × 25 columns</p>\n",
       "</div>"
      ],
      "text/plain": [
       "        InventoryLegSK CarrierCode  FlightNumber DepartureAirport  \\\n",
       "0              9153888          FR           144              BER   \n",
       "1              9153888          FR           144              BER   \n",
       "2              9153888          FR           144              BER   \n",
       "3              9153888          FR           144              BER   \n",
       "4              9153888          FR           144              BER   \n",
       "...                ...         ...           ...              ...   \n",
       "990563         9400373          FR          5269              EIN   \n",
       "990564         9400373          FR          5269              EIN   \n",
       "990565         9400373          FR          5269              EIN   \n",
       "990566         9400373          FR          5269              EIN   \n",
       "990567         9400373          FR          5269              EIN   \n",
       "\n",
       "       ArrivalAirport DepartureDateTimeLocal DepartureDateTimeUTC  \\\n",
       "0                 STN    2022-06-15 06:30:00  2022-06-15 04:30:00   \n",
       "1                 STN    2022-06-15 06:30:00  2022-06-15 04:30:00   \n",
       "2                 STN    2022-06-15 06:30:00  2022-06-15 04:30:00   \n",
       "3                 STN    2022-06-15 06:30:00  2022-06-15 04:30:00   \n",
       "4                 STN    2022-06-15 06:30:00  2022-06-15 04:30:00   \n",
       "...               ...                    ...                  ...   \n",
       "990563            SVQ    2022-07-01 09:40:00  2022-07-01 07:40:00   \n",
       "990564            SVQ    2022-07-01 09:40:00  2022-07-01 07:40:00   \n",
       "990565            SVQ    2022-07-01 09:40:00  2022-07-01 07:40:00   \n",
       "990566            SVQ    2022-07-01 09:40:00  2022-07-01 07:40:00   \n",
       "990567            SVQ    2022-07-01 09:40:00  2022-07-01 07:40:00   \n",
       "\n",
       "       ArrivalDateTimeLocal  ArrivalDateTimeUTC  ArrivalCountry  \\\n",
       "0       2022-06-15 07:20:00 2022-06-15 06:20:00  United Kingdom   \n",
       "1       2022-06-15 07:20:00 2022-06-15 06:20:00  United Kingdom   \n",
       "2       2022-06-15 07:20:00 2022-06-15 06:20:00  United Kingdom   \n",
       "3       2022-06-15 07:20:00 2022-06-15 06:20:00  United Kingdom   \n",
       "4       2022-06-15 07:20:00 2022-06-15 06:20:00  United Kingdom   \n",
       "...                     ...                 ...             ...   \n",
       "990563  2022-07-01 12:30:00 2022-07-01 10:30:00           Spain   \n",
       "990564  2022-07-01 12:30:00 2022-07-01 10:30:00           Spain   \n",
       "990565  2022-07-01 12:30:00 2022-07-01 10:30:00           Spain   \n",
       "990566  2022-07-01 12:30:00 2022-07-01 10:30:00           Spain   \n",
       "990567  2022-07-01 12:30:00 2022-07-01 10:30:00           Spain   \n",
       "\n",
       "       DepartureCountry RouteGroup          Region  FlightCapacity  \\\n",
       "0               Germany       CITY  LON CITY MULTI             189   \n",
       "1               Germany       CITY  LON CITY MULTI             189   \n",
       "2               Germany       CITY  LON CITY MULTI             189   \n",
       "3               Germany       CITY  LON CITY MULTI             189   \n",
       "4               Germany       CITY  LON CITY MULTI             189   \n",
       "...                 ...        ...             ...             ...   \n",
       "990563      Netherlands       CITY       BENL-ESPT             189   \n",
       "990564      Netherlands       CITY       BENL-ESPT             189   \n",
       "990565      Netherlands       CITY       BENL-ESPT             189   \n",
       "990566      Netherlands       CITY       BENL-ESPT             189   \n",
       "990567      Netherlands       CITY       BENL-ESPT             189   \n",
       "\n",
       "       FlightStatus  Unnamed: 0 PurchaseDateSK  Passenger_UnitsSold  \\\n",
       "0          Departed      309271     2022-01-07                    1   \n",
       "1          Departed      309272     2022-02-13                    0   \n",
       "2          Departed      309273     2022-02-17                    4   \n",
       "3          Departed      309274     2022-04-07                    3   \n",
       "4          Departed      309275     2022-04-08                    2   \n",
       "...             ...         ...            ...                  ...   \n",
       "990563     Departed      410432     2022-06-28                    7   \n",
       "990564     Departed      410433     2022-06-29                    1   \n",
       "990565     Departed      410434     2022-06-30                    0   \n",
       "990566     Departed      410435     2022-07-01                    0   \n",
       "990567     Departed      410436     2022-07-17                    0   \n",
       "\n",
       "        Priority_Boarding_UnitsSold  Priority_Boarding_RevenueEUR  \\\n",
       "0                               0.0                           0.0   \n",
       "1                               0.0                           0.0   \n",
       "2                               0.0                           0.0   \n",
       "3                               1.0                          60.0   \n",
       "4                               2.0                         120.0   \n",
       "...                             ...                           ...   \n",
       "990563                          0.0                           0.0   \n",
       "990564                          0.0                           0.0   \n",
       "990565                          0.0                           0.0   \n",
       "990566                          0.0                           0.0   \n",
       "990567                          0.0                           0.0   \n",
       "\n",
       "        20KG_Bag_UnitsSold  20KG_Bag_RevenueEUR  10KG_Bag_UnitsSold  \\\n",
       "0                      0.0                 0.00                 0.0   \n",
       "1                      0.0                 0.00                 0.0   \n",
       "2                      1.0                22.57                 0.0   \n",
       "3                      0.0                 0.00                 0.0   \n",
       "4                      0.0                 0.00                 0.0   \n",
       "...                    ...                  ...                 ...   \n",
       "990563                 0.0                 0.00                 4.0   \n",
       "990564                 0.0                 0.00                 0.0   \n",
       "990565                 1.0                59.99                 3.0   \n",
       "990566                 0.0                 0.00                 0.0   \n",
       "990567                 0.0                 0.00                 0.0   \n",
       "\n",
       "        10KG_Bag_RevenueEUR  Ancillary_Revenue  \n",
       "0                      0.00               0.00  \n",
       "1                      0.00               0.00  \n",
       "2                      0.00              22.57  \n",
       "3                      0.00              60.00  \n",
       "4                      0.00             120.00  \n",
       "...                     ...                ...  \n",
       "990563               125.99             125.99  \n",
       "990564                 0.00               0.00  \n",
       "990565               107.97             167.96  \n",
       "990566                 0.00               0.00  \n",
       "990567                 0.00               0.00  \n",
       "\n",
       "[990568 rows x 25 columns]"
      ]
     },
     "execution_count": 38,
     "metadata": {},
     "output_type": "execute_result"
    }
   ],
   "source": [
    "# Creating a new column 'Ancillary_Revenue' for total ancillary revenue for each flight\n",
    "\n",
    "ancillary_revenue['Ancillary_Revenue'] = (ancillary_revenue['Priority_Boarding_RevenueEUR'] + ancillary_revenue['20KG_Bag_RevenueEUR'] + ancillary_revenue['10KG_Bag_RevenueEUR'])\n",
    "ancillary_revenue"
   ]
  },
  {
   "cell_type": "code",
   "execution_count": 39,
   "id": "aCGWwXcosR5C",
   "metadata": {
    "id": "aCGWwXcosR5C"
   },
   "outputs": [],
   "source": [
    "# Dropping unnamed\n",
    "\n",
    "ancillary_revenue.drop('Unnamed: 0', axis = 1, inplace = True)"
   ]
  },
  {
   "cell_type": "markdown",
   "id": "OdQEK1x-eiPp",
   "metadata": {
    "id": "OdQEK1x-eiPp"
   },
   "source": [
    "### Detecting Outliers"
   ]
  },
  {
   "cell_type": "code",
   "execution_count": 41,
   "id": "Tc-5nDJ9eMiO",
   "metadata": {
    "colab": {
     "base_uri": "https://localhost:8080/",
     "height": 433
    },
    "id": "Tc-5nDJ9eMiO",
    "outputId": "4694980a-c254-4f0e-c666-08aefdc14ab5"
   },
   "outputs": [
    {
     "data": {
      "image/png": "[encoded data removed]",
      "text/plain": [
       "<Figure size 640x480 with 1 Axes>"
      ]
     },
     "metadata": {},
     "output_type": "display_data"
    }
   ],
   "source": [
    "# Boxplot of Passenger_UnitsSold\n",
    "\n",
    "sns.boxplot(y = 'Passenger_UnitsSold', data = ancillary_revenue, color = 'teal')\n",
    "plt.title('Boxplot of Passenger_UnitsSold - Before Outlier Removal');\n",
    "plt.xlabel('');\n",
    "plt.ylabel('Passenger_UnitsSold');"
   ]
  },
  {
   "cell_type": "code",
   "execution_count": 42,
   "id": "1loI35Kvgut8",
   "metadata": {
    "colab": {
     "base_uri": "https://localhost:8080/",
     "height": 433
    },
    "id": "1loI35Kvgut8",
    "outputId": "944d610d-8e27-4a44-c8a9-52190efe27cf"
   },
   "outputs": [
    {
     "data": {
      "image/png": "[encoded data removed]",
      "text/plain": [
       "<Figure size 640x480 with 1 Axes>"
      ]
     },
     "metadata": {},
     "output_type": "display_data"
    }
   ],
   "source": [
    "# Boxplot of Priority_Boarding_UnitsSold\n",
    "\n",
    "sns.boxplot(y = 'Priority_Boarding_UnitsSold', data = ancillary_revenue, color = 'teal')\n",
    "plt.title('Boxplot of Priority_Boarding_UnitsSold - Before Outlier Removal');\n",
    "plt.xlabel('');\n",
    "plt.ylabel('Priority_Boarding_UnitsSold');"
   ]
  },
  {
   "cell_type": "code",
   "execution_count": 43,
   "id": "KrFjZg-Agura",
   "metadata": {
    "colab": {
     "base_uri": "https://localhost:8080/",
     "height": 433
    },
    "id": "KrFjZg-Agura",
    "outputId": "b64f2017-896b-481a-b99b-4c165aa35d2f"
   },
   "outputs": [
    {
     "data": {
      "image/png": "[encoded data removed]",
      "text/plain": [
       "<Figure size 640x480 with 1 Axes>"
      ]
     },
     "metadata": {},
     "output_type": "display_data"
    }
   ],
   "source": [
    "# Boxplot of Priority_Boarding_RevenueEUR\n",
    "\n",
    "sns.boxplot(y = 'Priority_Boarding_RevenueEUR', data = ancillary_revenue, color = 'teal')\n",
    "plt.title('Boxplot of Priority_Boarding_RevenueEUR - Before Outlier Removal');\n",
    "plt.xlabel('');\n",
    "plt.ylabel('Priority_Boarding_RevenueEUR');"
   ]
  },
  {
   "cell_type": "code",
   "execution_count": 44,
   "id": "fkkBTqGhguoM",
   "metadata": {
    "colab": {
     "base_uri": "https://localhost:8080/",
     "height": 433
    },
    "id": "fkkBTqGhguoM",
    "outputId": "6df33bea-5c15-44ad-af84-4a572f5a3b5d"
   },
   "outputs": [
    {
     "data": {
      "image/png": "[encoded data removed]",
      "text/plain": [
       "<Figure size 640x480 with 1 Axes>"
      ]
     },
     "metadata": {},
     "output_type": "display_data"
    }
   ],
   "source": [
    "# Boxplot of 20KG_Bag_UnitsSold\n",
    "\n",
    "sns.boxplot(y = '20KG_Bag_UnitsSold', data = ancillary_revenue, color = 'teal')\n",
    "plt.title('Boxplot of 20KG_Bag_UnitsSold - Before Outlier Removal');\n",
    "plt.xlabel('');\n",
    "plt.ylabel('20KG_Bag_UnitsSold');"
   ]
  },
  {
   "cell_type": "code",
   "execution_count": 45,
   "id": "fu_QtAtHgull",
   "metadata": {
    "colab": {
     "base_uri": "https://localhost:8080/",
     "height": 433
    },
    "id": "fu_QtAtHgull",
    "outputId": "62a9dd03-0787-453b-fac6-7f80ef88296a"
   },
   "outputs": [
    {
     "data": {
      "image/png": "[encoded data removed]",
      "text/plain": [
       "<Figure size 640x480 with 1 Axes>"
      ]
     },
     "metadata": {},
     "output_type": "display_data"
    }
   ],
   "source": [
    "# Boxplot of 20KG_Bag_RevenueEUR\n",
    "\n",
    "sns.boxplot(y = '20KG_Bag_RevenueEUR', data = ancillary_revenue, color = 'teal')\n",
    "plt.title('Boxplot of 20KG_Bag_RevenueEUR - Before Outlier Removal');\n",
    "plt.xlabel('');\n",
    "plt.ylabel('20KG_Bag_RevenueEUR');"
   ]
  },
  {
   "cell_type": "code",
   "execution_count": 46,
   "id": "v78CbTq9gujB",
   "metadata": {
    "colab": {
     "base_uri": "https://localhost:8080/",
     "height": 433
    },
    "id": "v78CbTq9gujB",
    "outputId": "0aa8a19c-9e74-4ea7-dcea-32dfbf658210"
   },
   "outputs": [
    {
     "data": {
      "image/png": "[encoded data removed]",
      "text/plain": [
       "<Figure size 640x480 with 1 Axes>"
      ]
     },
     "metadata": {},
     "output_type": "display_data"
    }
   ],
   "source": [
    "# Boxplot of 10KG_Bag_UnitsSold\n",
    "\n",
    "sns.boxplot(y = '10KG_Bag_UnitsSold', data = ancillary_revenue, color = 'teal')\n",
    "plt.title('Boxplot of 10KG_Bag_UnitsSold - Before Outlier Removal');\n",
    "plt.xlabel('');\n",
    "plt.ylabel('10KG_Bag_UnitsSold');"
   ]
  },
  {
   "cell_type": "code",
   "execution_count": 47,
   "id": "X2RjDCsfguf5",
   "metadata": {
    "colab": {
     "base_uri": "https://localhost:8080/",
     "height": 433
    },
    "id": "X2RjDCsfguf5",
    "outputId": "4fb0b87d-9419-428d-e462-929cf2240d7d"
   },
   "outputs": [
    {
     "data": {
      "image/png": "[encoded data removed]",
      "text/plain": [
       "<Figure size 640x480 with 1 Axes>"
      ]
     },
     "metadata": {},
     "output_type": "display_data"
    }
   ],
   "source": [
    "# Boxplot of 10KG_Bag_RevenueEUR\n",
    "\n",
    "sns.boxplot(y = '10KG_Bag_RevenueEUR', data = ancillary_revenue, color = 'teal')\n",
    "plt.title('Boxplot of 10KG_Bag_RevenueEUR - Before Outlier Removal');\n",
    "plt.xlabel('');\n",
    "plt.ylabel('10KG_Bag_RevenueEUR');"
   ]
  },
  {
   "cell_type": "code",
   "execution_count": 48,
   "id": "yF84ZU9mguc4",
   "metadata": {
    "colab": {
     "base_uri": "https://localhost:8080/",
     "height": 433
    },
    "id": "yF84ZU9mguc4",
    "outputId": "8047f352-454d-48bc-b91b-29d6b3583897"
   },
   "outputs": [
    {
     "data": {
      "image/png": "[encoded data removed]",
      "text/plain": [
       "<Figure size 640x480 with 1 Axes>"
      ]
     },
     "metadata": {},
     "output_type": "display_data"
    }
   ],
   "source": [
    "# Boxplot of Ancillary_Revenue\n",
    "\n",
    "sns.boxplot(y = 'Ancillary_Revenue', data = ancillary_revenue, color = 'teal')\n",
    "plt.title('Boxplot of Ancillary_Revenue - Before Outlier Removal');\n",
    "plt.xlabel('');\n",
    "plt.ylabel('Ancillary_Revenue');"
   ]
  },
  {
   "cell_type": "code",
   "execution_count": 49,
   "id": "NVrFqsVjjtgL",
   "metadata": {
    "id": "NVrFqsVjjtgL"
   },
   "outputs": [],
   "source": [
    "# Removal of outliers using Inter Quartile Range (IQR):\n",
    "\n",
    "columns = ['Passenger_UnitsSold',\t'Priority_Boarding_UnitsSold', 'Priority_Boarding_RevenueEUR',\t'20KG_Bag_UnitsSold',\t'20KG_Bag_RevenueEUR',\t'10KG_Bag_UnitsSold',\t'10KG_Bag_RevenueEUR',\t'Ancillary_Revenue']\n",
    "\n",
    "Q3 = ancillary_revenue[columns].quantile(.75)\n",
    "Q1 = ancillary_revenue[columns].quantile(.25)\n",
    "IQR = Q3 - Q1\n",
    "UL = Q3 + 1.5*(IQR)\n",
    "LL = Q1 - 1.5*(IQR)\n",
    "\n",
    "for column in columns:\n",
    "  ancillary_revenue[column] = np.where(ancillary_revenue[column] > UL[column], UL[column], np.where(ancillary_revenue[column] < LL[column], LL[column], ancillary_revenue[column]))"
   ]
  },
  {
   "cell_type": "markdown",
   "id": "waC2AAuC2iLT",
   "metadata": {
    "id": "waC2AAuC2iLT"
   },
   "source": [
    "### Encoding Using Label Encoder"
   ]
  },
  {
   "cell_type": "code",
   "execution_count": 51,
   "id": "LGUrhmD1Gn4G",
   "metadata": {
    "id": "LGUrhmD1Gn4G"
   },
   "outputs": [],
   "source": [
    "columns = ['CarrierCode', 'DepartureAirport', 'ArrivalAirport', 'ArrivalCountry',\n",
    "           'DepartureCountry', 'RouteGroup', 'Region',\n",
    "           'DepartureDateTimeLocal',\t'DepartureDateTimeUTC',\t'ArrivalDateTimeLocal',\n",
    "           'ArrivalDateTimeUTC']\n",
    "\n",
    "# Combine the categorical data from both datasets\n",
    "combined_data = pd.concat([ancillary_revenue[columns], validation_data[columns]])\n",
    "\n",
    "# Setting up LabelEncoder\n",
    "encoder = LabelEncoder()\n",
    "\n",
    "# Encode categorical columns in both datasets\n",
    "encoders = {}\n",
    "for col in columns:\n",
    "    encoder = LabelEncoder()\n",
    "    encoder.fit(combined_data[col])\n",
    "    ancillary_revenue[col] = encoder.transform(ancillary_revenue[col])\n",
    "    validation_data[col] = encoder.transform(validation_data[col])\n",
    "    encoders[col] = encoder  # Store the encoder for later use"
   ]
  },
  {
   "cell_type": "code",
   "execution_count": 52,
   "id": "xGYfCQF0IZVX",
   "metadata": {
    "id": "xGYfCQF0IZVX"
   },
   "outputs": [],
   "source": [
    "ancillary_revenue.drop(['FlightStatus', 'PurchaseDateSK'], axis = 1, inplace = True)"
   ]
  },
  {
   "cell_type": "markdown",
   "id": "DOUmjrfIjtH7",
   "metadata": {
    "id": "DOUmjrfIjtH7"
   },
   "source": [
    "# Model Selection and Training"
   ]
  },
  {
   "cell_type": "markdown",
   "id": "W76WF0QZoJb4",
   "metadata": {
    "id": "W76WF0QZoJb4"
   },
   "source": [
    "### Data Splitting"
   ]
  },
  {
   "cell_type": "code",
   "execution_count": 55,
   "id": "Fk6-iyAdkjgy",
   "metadata": {
    "id": "Fk6-iyAdkjgy"
   },
   "outputs": [],
   "source": [
    "# Ensuring both datasets have the same columns\n",
    "common_columns = [col for col in ancillary_revenue.columns if col in validation_data.columns and col != 'Ancillary_Revenue']\n",
    "\n",
    "# Data splitting\n",
    "x = ancillary_revenue[common_columns]\n",
    "y = ancillary_revenue['Ancillary_Revenue']"
   ]
  },
  {
   "cell_type": "markdown",
   "id": "9AsMbvtZlPPv",
   "metadata": {
    "id": "9AsMbvtZlPPv"
   },
   "source": [
    "### Model: Decision Tree"
   ]
  },
  {
   "cell_type": "code",
   "execution_count": 57,
   "id": "91674c73-e144-4dd2-8625-a65c594cea3a",
   "metadata": {},
   "outputs": [
    {
     "name": "stdout",
     "output_type": "stream",
     "text": [
      "Best hyperparameters =  {'criterion': 'friedman_mse', 'max_depth': 5, 'min_samples_leaf': 20, 'min_samples_split': 40}\n"
     ]
    }
   ],
   "source": [
    "# Finding best hyperparameters for decision tree\n",
    "from sklearn.model_selection import GridSearchCV\n",
    "\n",
    "param_grid = {\n",
    "    'criterion': ['squared_error', 'friedman_mse'],\n",
    "    'max_depth': [3, 5],\n",
    "    'min_samples_leaf': [10, 20],\n",
    "    'min_samples_split': [20, 40]\n",
    "}\n",
    "\n",
    "dt = DecisionTreeRegressor()\n",
    "\n",
    "# Perform grid search\n",
    "grid_search = GridSearchCV(dt, param_grid, cv=5, n_jobs = -1)\n",
    "grid_search.fit(x, y)\n",
    "\n",
    "# Best parameters\n",
    "best_params = grid_search.best_params_\n",
    "print('Best hyperparameters = ', best_params)"
   ]
  },
  {
   "cell_type": "code",
   "execution_count": 58,
   "id": "lC5oe3REl9_J",
   "metadata": {
    "id": "lC5oe3REl9_J"
   },
   "outputs": [],
   "source": [
    "# Using suggested parameters in decision tree\n",
    "\n",
    "dt = DecisionTreeRegressor(criterion = 'friedman_mse',\n",
    "                            max_depth = 5,\n",
    "                            min_samples_leaf = 20,\n",
    "                            min_samples_split = 40)\n",
    "\n",
    "dt.fit(x, y)\n",
    "\n",
    "# Predict on the validation_data\n",
    "validation_data_scaled = validation_data[common_columns]\n",
    "y_pred_validation = dt.predict(validation_data_scaled)\n",
    "\n",
    "validation_data['Predicted_Ancillary_Revenue'] = y_pred_validation"
   ]
  },
  {
   "cell_type": "code",
   "execution_count": 59,
   "id": "uiN3IjFLYADf",
   "metadata": {
    "id": "uiN3IjFLYADf"
   },
   "outputs": [],
   "source": [
    "# Revert numerical to original categorical values for interpretability\n",
    "\n",
    "for col in columns:\n",
    "    if col in validation_data.columns:\n",
    "        encoder = encoders[col]\n",
    "        validation_data[col] = encoder.inverse_transform(validation_data[col])"
   ]
  },
  {
   "cell_type": "code",
   "execution_count": 60,
   "id": "ubdNdawDvKdn",
   "metadata": {
    "colab": {
     "base_uri": "https://localhost:8080/"
    },
    "id": "ubdNdawDvKdn",
    "outputId": "3bab753d-7200-4d7a-9cfc-8962e342af65"
   },
   "outputs": [
    {
     "data": {
      "text/html": [
       "<div>\n",
       "<style scoped>\n",
       "    .dataframe tbody tr th:only-of-type {\n",
       "        vertical-align: middle;\n",
       "    }\n",
       "\n",
       "    .dataframe tbody tr th {\n",
       "        vertical-align: top;\n",
       "    }\n",
       "\n",
       "    .dataframe thead th {\n",
       "        text-align: right;\n",
       "    }\n",
       "</style>\n",
       "<table border=\"1\" class=\"dataframe\">\n",
       "  <thead>\n",
       "    <tr style=\"text-align: right;\">\n",
       "      <th></th>\n",
       "      <th>InventoryLegSK</th>\n",
       "      <th>CarrierCode</th>\n",
       "      <th>FlightNumber</th>\n",
       "      <th>DepartureAirport</th>\n",
       "      <th>ArrivalAirport</th>\n",
       "      <th>DepartureDateTimeLocal</th>\n",
       "      <th>DepartureDateTimeUTC</th>\n",
       "      <th>ArrivalDateTimeLocal</th>\n",
       "      <th>ArrivalDateTimeUTC</th>\n",
       "      <th>ArrivalCountry</th>\n",
       "      <th>DepartureCountry</th>\n",
       "      <th>RouteGroup</th>\n",
       "      <th>Region</th>\n",
       "      <th>FlightCapacity</th>\n",
       "      <th>Predicted_Ancillary_Revenue</th>\n",
       "    </tr>\n",
       "  </thead>\n",
       "  <tbody>\n",
       "    <tr>\n",
       "      <th>1351</th>\n",
       "      <td>9750159</td>\n",
       "      <td>FR</td>\n",
       "      <td>8726</td>\n",
       "      <td>BRI</td>\n",
       "      <td>CAG</td>\n",
       "      <td>2023-05-27 16:40:00</td>\n",
       "      <td>2023-05-27 15:40:00</td>\n",
       "      <td>2023-05-27 20:10:00</td>\n",
       "      <td>2023-05-27 18:10:00</td>\n",
       "      <td>Italy</td>\n",
       "      <td>Italy</td>\n",
       "      <td>DOMESTIC</td>\n",
       "      <td>IT DOM</td>\n",
       "      <td>189</td>\n",
       "      <td>69.929474</td>\n",
       "    </tr>\n",
       "    <tr>\n",
       "      <th>1693</th>\n",
       "      <td>10104437</td>\n",
       "      <td>FR</td>\n",
       "      <td>6826</td>\n",
       "      <td>EDI</td>\n",
       "      <td>FAO</td>\n",
       "      <td>2023-09-23 17:05:00</td>\n",
       "      <td>2023-09-23 16:05:00</td>\n",
       "      <td>2023-09-23 21:05:00</td>\n",
       "      <td>2023-09-23 19:05:00</td>\n",
       "      <td>Portugal</td>\n",
       "      <td>United Kingdom</td>\n",
       "      <td>LEISURE</td>\n",
       "      <td>SCOT LEISURE</td>\n",
       "      <td>189</td>\n",
       "      <td>105.556137</td>\n",
       "    </tr>\n",
       "    <tr>\n",
       "      <th>273</th>\n",
       "      <td>9025570</td>\n",
       "      <td>FR</td>\n",
       "      <td>6874</td>\n",
       "      <td>BCN</td>\n",
       "      <td>DUB</td>\n",
       "      <td>2023-08-25 18:10:00</td>\n",
       "      <td>2023-08-25 17:10:00</td>\n",
       "      <td>2023-08-25 21:30:00</td>\n",
       "      <td>2023-08-25 19:30:00</td>\n",
       "      <td>Ireland</td>\n",
       "      <td>Spain</td>\n",
       "      <td>CITY</td>\n",
       "      <td>IE CITY</td>\n",
       "      <td>197</td>\n",
       "      <td>69.929474</td>\n",
       "    </tr>\n",
       "    <tr>\n",
       "      <th>1657</th>\n",
       "      <td>9886693</td>\n",
       "      <td>RK</td>\n",
       "      <td>3836</td>\n",
       "      <td>MAN</td>\n",
       "      <td>MAH</td>\n",
       "      <td>2023-09-24 06:40:00</td>\n",
       "      <td>2023-09-24 05:40:00</td>\n",
       "      <td>2023-09-24 10:20:00</td>\n",
       "      <td>2023-09-24 08:20:00</td>\n",
       "      <td>Spain</td>\n",
       "      <td>United Kingdom</td>\n",
       "      <td>LEISURE</td>\n",
       "      <td>UK REG LEISURE</td>\n",
       "      <td>189</td>\n",
       "      <td>105.556137</td>\n",
       "    </tr>\n",
       "    <tr>\n",
       "      <th>440</th>\n",
       "      <td>9101523</td>\n",
       "      <td>FR</td>\n",
       "      <td>7896</td>\n",
       "      <td>TLV</td>\n",
       "      <td>VIE</td>\n",
       "      <td>2023-09-06 17:20:00</td>\n",
       "      <td>2023-09-06 16:20:00</td>\n",
       "      <td>2023-09-06 21:00:00</td>\n",
       "      <td>2023-09-06 19:00:00</td>\n",
       "      <td>Austria</td>\n",
       "      <td>Israel</td>\n",
       "      <td>LEISURE</td>\n",
       "      <td>CE EUR LEISURE</td>\n",
       "      <td>180</td>\n",
       "      <td>83.087791</td>\n",
       "    </tr>\n",
       "  </tbody>\n",
       "</table>\n",
       "</div>"
      ],
      "text/plain": [
       "      InventoryLegSK CarrierCode  FlightNumber DepartureAirport  \\\n",
       "1351         9750159          FR          8726              BRI   \n",
       "1693        10104437          FR          6826              EDI   \n",
       "273          9025570          FR          6874              BCN   \n",
       "1657         9886693          RK          3836              MAN   \n",
       "440          9101523          FR          7896              TLV   \n",
       "\n",
       "     ArrivalAirport DepartureDateTimeLocal DepartureDateTimeUTC  \\\n",
       "1351            CAG    2023-05-27 16:40:00  2023-05-27 15:40:00   \n",
       "1693            FAO    2023-09-23 17:05:00  2023-09-23 16:05:00   \n",
       "273             DUB    2023-08-25 18:10:00  2023-08-25 17:10:00   \n",
       "1657            MAH    2023-09-24 06:40:00  2023-09-24 05:40:00   \n",
       "440             VIE    2023-09-06 17:20:00  2023-09-06 16:20:00   \n",
       "\n",
       "     ArrivalDateTimeLocal  ArrivalDateTimeUTC ArrivalCountry DepartureCountry  \\\n",
       "1351  2023-05-27 20:10:00 2023-05-27 18:10:00          Italy            Italy   \n",
       "1693  2023-09-23 21:05:00 2023-09-23 19:05:00       Portugal   United Kingdom   \n",
       "273   2023-08-25 21:30:00 2023-08-25 19:30:00        Ireland            Spain   \n",
       "1657  2023-09-24 10:20:00 2023-09-24 08:20:00          Spain   United Kingdom   \n",
       "440   2023-09-06 21:00:00 2023-09-06 19:00:00        Austria           Israel   \n",
       "\n",
       "     RouteGroup          Region  FlightCapacity  Predicted_Ancillary_Revenue  \n",
       "1351   DOMESTIC          IT DOM             189                    69.929474  \n",
       "1693    LEISURE    SCOT LEISURE             189                   105.556137  \n",
       "273        CITY         IE CITY             197                    69.929474  \n",
       "1657    LEISURE  UK REG LEISURE             189                   105.556137  \n",
       "440     LEISURE  CE EUR LEISURE             180                    83.087791  "
      ]
     },
     "execution_count": 60,
     "metadata": {},
     "output_type": "execute_result"
    }
   ],
   "source": [
    "validation_data.sample(5)"
   ]
  },
  {
   "cell_type": "code",
   "execution_count": 61,
   "id": "bc9ec0b9-61af-473e-9b8b-f06bd01e745d",
   "metadata": {},
   "outputs": [
    {
     "name": "stdout",
     "output_type": "stream",
     "text": [
      "<class 'pandas.core.frame.DataFrame'>\n",
      "RangeIndex: 1924 entries, 0 to 1923\n",
      "Data columns (total 15 columns):\n",
      " #   Column                       Non-Null Count  Dtype         \n",
      "---  ------                       --------------  -----         \n",
      " 0   InventoryLegSK               1924 non-null   int64         \n",
      " 1   CarrierCode                  1924 non-null   object        \n",
      " 2   FlightNumber                 1924 non-null   int64         \n",
      " 3   DepartureAirport             1924 non-null   object        \n",
      " 4   ArrivalAirport               1924 non-null   object        \n",
      " 5   DepartureDateTimeLocal       1924 non-null   datetime64[ns]\n",
      " 6   DepartureDateTimeUTC         1924 non-null   datetime64[ns]\n",
      " 7   ArrivalDateTimeLocal         1924 non-null   datetime64[ns]\n",
      " 8   ArrivalDateTimeUTC           1924 non-null   datetime64[ns]\n",
      " 9   ArrivalCountry               1924 non-null   object        \n",
      " 10  DepartureCountry             1924 non-null   object        \n",
      " 11  RouteGroup                   1924 non-null   object        \n",
      " 12  Region                       1924 non-null   object        \n",
      " 13  FlightCapacity               1924 non-null   int64         \n",
      " 14  Predicted_Ancillary_Revenue  1924 non-null   float64       \n",
      "dtypes: datetime64[ns](4), float64(1), int64(3), object(7)\n",
      "memory usage: 225.6+ KB\n"
     ]
    }
   ],
   "source": [
    "# Checking validation_data to ensure export is correct\n",
    "\n",
    "validation_data.info()"
   ]
  },
  {
   "cell_type": "code",
   "execution_count": 62,
   "id": "Y_mMSfRSZyPT",
   "metadata": {
    "id": "Y_mMSfRSZyPT"
   },
   "outputs": [],
   "source": [
    "file_path = r'C:\\Users\\prita\\OneDrive\\Documents\\Ancillary Revenue Prediction\\data\\validation_data.xlsx'\n",
    "\n",
    "# Export validation_data to Excel\n",
    "validation_data.to_excel(file_path, index = False)"
   ]
  },
  {
   "cell_type": "code",
   "execution_count": 63,
   "id": "9a098eda-d22b-4e63-b358-42ae0f528149",
   "metadata": {},
   "outputs": [
    {
     "name": "stdout",
     "output_type": "stream",
     "text": [
      "We started this assignment by importing the three datasets given: i) flight data, ii) sales data, and iii) validation data. The task was to predict the ancillary revenue for the flight details given in the validation dataset using features from the other two. We merged the flight and sales datasets into an 'ancillary_revenue' dataframe to match flight details with their respective sales figures for ancillary sales. Using selected sales features, we created the 'ancillary_sales' column to predict for the validation dataset. Our exploratory data analysis involved changing data types, cleaning data, and exploring all features for both train and validation sets. Using LabelEncoder, we transformed categorical and datetime data into numerical formats to ensure compatibility with models during prediction. We split the features and opted to employ Decision Tree Regressor. Importantly, we retained most features rather than dropping them to align 'ancillary_revenue' with the validation set. Training utilized the entire 'ancillary_revenue' dataset for validation. To determine optimal Decision Tree parameters, GridSearchCV was employed. Finally, we transformed numerical data back to its original form.\n"
     ]
    }
   ],
   "source": [
    "print(\"We started this assignment by importing the three datasets given: i) flight data, ii) sales data, and iii) validation data. The task was to predict the ancillary revenue for the flight details given in the validation dataset using features from the other two. We merged the flight and sales datasets into an 'ancillary_revenue' dataframe to match flight details with their respective sales figures for ancillary sales. Using selected sales features, we created the 'ancillary_sales' column to predict for the validation dataset. Our exploratory data analysis involved changing data types, cleaning data, and exploring all features for both train and validation sets. Using LabelEncoder, we transformed categorical and datetime data into numerical formats to ensure compatibility with models during prediction. We split the features and opted to employ Decision Tree Regressor. Importantly, we retained most features rather than dropping them to align 'ancillary_revenue' with the validation set. Training utilized the entire 'ancillary_revenue' dataset for validation. To determine optimal Decision Tree parameters, GridSearchCV was employed. Finally, we transformed numerical data back to its original form.\")\n"
   ]
  }
 ],
 "metadata": {
  "colab": {
   "collapsed_sections": [
    "cvObt_c9y0jU"
   ],
   "provenance": []
  },
  "kernelspec": {
   "display_name": "Python 3 (ipykernel)",
   "language": "python",
   "name": "python3"
  },
  "language_info": {
   "codemirror_mode": {
    "name": "ipython",
    "version": 3
   },
   "file_extension": ".py",
   "mimetype": "text/x-python",
   "name": "python",
   "nbconvert_exporter": "python",
   "pygments_lexer": "ipython3",
   "version": "3.11.5"
  }
 },
 "nbformat": 4,
 "nbformat_minor": 5
}
